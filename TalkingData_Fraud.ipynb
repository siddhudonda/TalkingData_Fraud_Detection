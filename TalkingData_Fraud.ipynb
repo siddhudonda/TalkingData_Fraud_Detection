{
  "nbformat": 4,
  "nbformat_minor": 0,
  "metadata": {
    "colab": {
      "provenance": [],
      "machine_shape": "hm",
      "gpuType": "V100"
    },
    "kernelspec": {
      "name": "python3",
      "display_name": "Python 3"
    },
    "language_info": {
      "name": "python"
    },
    "accelerator": "GPU"
  },
  "cells": [
    {
      "cell_type": "code",
      "execution_count": null,
      "metadata": {
        "id": "xtrVYCDjwdXG",
        "colab": {
          "base_uri": "https://localhost:8080/"
        },
        "outputId": "a6e7eea6-d70b-4107-cec5-6e3244e19845"
      },
      "outputs": [
        {
          "output_type": "stream",
          "name": "stdout",
          "text": [
            "Mounted at /content/drive\n"
          ]
        }
      ],
      "source": [
        "#data loading\n",
        "\n",
        "# df=pd.read_excel(\"Book1.xlsx\")\n",
        "from google.colab import drive\n",
        "drive.mount('/content/drive')"
      ]
    },
    {
      "cell_type": "code",
      "source": [
        "from google.colab import drive\n",
        "drive.mount('/content/drive')"
      ],
      "metadata": {
        "id": "lpDY2vuFHdIB",
        "outputId": "43822711-90d7-4323-cfb9-be06b80931bc",
        "colab": {
          "base_uri": "https://localhost:8080/"
        }
      },
      "execution_count": null,
      "outputs": [
        {
          "output_type": "stream",
          "name": "stdout",
          "text": [
            "Mounted at /content/drive\n"
          ]
        }
      ]
    },
    {
      "cell_type": "code",
      "source": [
        "!unzip \"/content/drive/MyDrive/talkingdata-adtracking-fraud-detection.zip\""
      ],
      "metadata": {
        "id": "oVt6hFYtHv6-",
        "outputId": "7ccce1dd-4bf1-41c9-de4a-430589309aa8",
        "colab": {
          "base_uri": "https://localhost:8080/"
        }
      },
      "execution_count": null,
      "outputs": [
        {
          "output_type": "stream",
          "name": "stdout",
          "text": [
            "Archive:  /content/drive/MyDrive/talkingdata-adtracking-fraud-detection.zip\n",
            "  inflating: sample_submission.csv   \n",
            "  inflating: test.csv                \n",
            "  inflating: test_supplement.csv     \n",
            "  inflating: train.csv               \n",
            "  inflating: train_sample.csv        \n"
          ]
        }
      ]
    },
    {
      "cell_type": "code",
      "source": [
        "import matplotlib.pyplot as plt\n",
        "import dask.dataframe as dd\n",
        "import numpy as np\n",
        "from sklearn.linear_model import LogisticRegression\n",
        "from sklearn.ensemble import RandomForestClassifier\n",
        "from sklearn import svm\n",
        "from sklearn.metrics import accuracy_score,roc_curve,recall_score,classification_report,mean_squared_error,confusion_matrix\n",
        "from scipy import interp\n",
        "from sklearn.metrics import roc_auc_score\n",
        "from sklearn.metrics import roc_curve, auc\n",
        "import lightgbm as lgb\n",
        "from contextlib import contextmanager\n",
        "import time\n",
        "import random\n",
        "from sklearn.model_selection import train_test_split as model_tts"
      ],
      "metadata": {
        "id": "iytoj869QoXh"
      },
      "execution_count": null,
      "outputs": []
    },
    {
      "cell_type": "code",
      "source": [],
      "metadata": {
        "id": "GzJHxc5MqZ7n"
      },
      "execution_count": null,
      "outputs": []
    },
    {
      "cell_type": "code",
      "source": [
        "import pandas as pd\n",
        "dfTrain = pd.read_csv(\"/content/train.csv\", nrows=10000000)"
      ],
      "metadata": {
        "id": "JXiCHdy1xnqz"
      },
      "execution_count": null,
      "outputs": []
    },
    {
      "cell_type": "code",
      "source": [
        "dfTest = pd.read_csv(\"/content/train.csv\", skiprows=range(1, 10000000), nrows=10000000)"
      ],
      "metadata": {
        "id": "iC4c0urBxrzW"
      },
      "execution_count": null,
      "outputs": []
    },
    {
      "cell_type": "code",
      "source": [
        "dtyp = {'ip': np.int64, 'app': np.int16,'device': np.int16,'os': np.int16,'channel': np.int16,'is_attributed' : np.int16}"
      ],
      "metadata": {
        "id": "NsqooHRyRv50"
      },
      "execution_count": null,
      "outputs": []
    },
    {
      "cell_type": "code",
      "source": [
        "dfTrain.info()"
      ],
      "metadata": {
        "colab": {
          "base_uri": "https://localhost:8080/"
        },
        "id": "Plm8spdJYEBV",
        "outputId": "da66183e-e545-40e5-c2d6-e66e676e8883"
      },
      "execution_count": null,
      "outputs": [
        {
          "output_type": "stream",
          "name": "stdout",
          "text": [
            "<class 'pandas.core.frame.DataFrame'>\n",
            "RangeIndex: 10000000 entries, 0 to 9999999\n",
            "Data columns (total 8 columns):\n",
            " #   Column           Dtype \n",
            "---  ------           ----- \n",
            " 0   ip               int64 \n",
            " 1   app              int64 \n",
            " 2   device           int64 \n",
            " 3   os               int64 \n",
            " 4   channel          int64 \n",
            " 5   click_time       object\n",
            " 6   attributed_time  object\n",
            " 7   is_attributed    int64 \n",
            "dtypes: int64(6), object(2)\n",
            "memory usage: 610.4+ MB\n"
          ]
        }
      ]
    },
    {
      "cell_type": "code",
      "source": [
        "dfTest.info()"
      ],
      "metadata": {
        "colab": {
          "base_uri": "https://localhost:8080/"
        },
        "id": "TQCqy5LoYOvl",
        "outputId": "2d444328-bcc8-42fd-abd0-adcca798d2c4"
      },
      "execution_count": null,
      "outputs": [
        {
          "output_type": "stream",
          "name": "stdout",
          "text": [
            "<class 'pandas.core.frame.DataFrame'>\n",
            "RangeIndex: 10000000 entries, 0 to 9999999\n",
            "Data columns (total 8 columns):\n",
            " #   Column           Dtype \n",
            "---  ------           ----- \n",
            " 0   ip               int64 \n",
            " 1   app              int64 \n",
            " 2   device           int64 \n",
            " 3   os               int64 \n",
            " 4   channel          int64 \n",
            " 5   click_time       object\n",
            " 6   attributed_time  object\n",
            " 7   is_attributed    int64 \n",
            "dtypes: int64(6), object(2)\n",
            "memory usage: 610.4+ MB\n"
          ]
        }
      ]
    },
    {
      "cell_type": "code",
      "source": [
        "def cleaning_transforming(dataframe):\n",
        "\n",
        "    #this column is completely blank\n",
        "    del dataframe['attributed_time']\n",
        "    # Create new features out of time. Year and month are skipped as the data is only for 4 days\n",
        "    dataframe['click_time'] =  dd.to_datetime(dataframe['click_time'])\n",
        "\n",
        "    # # the given data is of 4 days. So useful data is day and hours\n",
        "    dataframe['day'] = dataframe['click_time'].dt.day\n",
        "    dataframe['hour'] = dataframe['click_time'].dt.hour\n",
        "    del dataframe['click_time']\n",
        "\n",
        "    dataframe.columns = ['ip', 'app', 'device', 'os','channel','is_attributed','day','hour']\n",
        "\n",
        "    print(\"dataset columns\",dataframe.columns)\n",
        "\n",
        "    dataframe.astype(dtyp)\n",
        "    print(\"\\n\\n=============================================================\")\n",
        "    print(dataframe.info())\n",
        "    return dataframe\n",
        "\n",
        "\n"
      ],
      "metadata": {
        "id": "6NNvSEcqP8Sv"
      },
      "execution_count": null,
      "outputs": []
    },
    {
      "cell_type": "code",
      "source": [
        "dfTrain = cleaning_transforming(dfTrain)\n",
        "dfTest = cleaning_transforming(dfTest)"
      ],
      "metadata": {
        "colab": {
          "base_uri": "https://localhost:8080/"
        },
        "id": "0eTUMoLNPKuz",
        "outputId": "93ec6067-b6dd-4fad-aae8-c71905135908"
      },
      "execution_count": null,
      "outputs": [
        {
          "output_type": "stream",
          "name": "stdout",
          "text": [
            "dataset columns Index(['ip', 'app', 'device', 'os', 'channel', 'is_attributed', 'day', 'hour'], dtype='object')\n",
            "\n",
            "\n",
            "=============================================================\n",
            "<class 'pandas.core.frame.DataFrame'>\n",
            "RangeIndex: 10000000 entries, 0 to 9999999\n",
            "Data columns (total 8 columns):\n",
            " #   Column         Dtype\n",
            "---  ------         -----\n",
            " 0   ip             int64\n",
            " 1   app            int64\n",
            " 2   device         int64\n",
            " 3   os             int64\n",
            " 4   channel        int64\n",
            " 5   is_attributed  int64\n",
            " 6   day            int64\n",
            " 7   hour           int64\n",
            "dtypes: int64(8)\n",
            "memory usage: 610.4 MB\n",
            "None\n",
            "dataset columns Index(['ip', 'app', 'device', 'os', 'channel', 'is_attributed', 'day', 'hour'], dtype='object')\n",
            "\n",
            "\n",
            "=============================================================\n",
            "<class 'pandas.core.frame.DataFrame'>\n",
            "RangeIndex: 10000000 entries, 0 to 9999999\n",
            "Data columns (total 8 columns):\n",
            " #   Column         Dtype\n",
            "---  ------         -----\n",
            " 0   ip             int64\n",
            " 1   app            int64\n",
            " 2   device         int64\n",
            " 3   os             int64\n",
            " 4   channel        int64\n",
            " 5   is_attributed  int64\n",
            " 6   day            int64\n",
            " 7   hour           int64\n",
            "dtypes: int64(8)\n",
            "memory usage: 610.4 MB\n",
            "None\n"
          ]
        }
      ]
    },
    {
      "cell_type": "code",
      "source": [
        "def check_true_positive_ratio(dfTest):\n",
        "  dfTest = cleaning_transforming(dfTest)"
      ],
      "metadata": {
        "id": "lcGeg2j8x561"
      },
      "execution_count": null,
      "outputs": []
    },
    {
      "cell_type": "code",
      "source": [
        "print(\"original dataframe\")\n",
        "dfTrain.head()"
      ],
      "metadata": {
        "colab": {
          "base_uri": "https://localhost:8080/",
          "height": 224
        },
        "id": "WYK6DpavYXer",
        "outputId": "dc0fc0f6-18c1-4757-cd2e-88229036d563"
      },
      "execution_count": null,
      "outputs": [
        {
          "output_type": "stream",
          "name": "stdout",
          "text": [
            "original dataframe\n"
          ]
        },
        {
          "output_type": "execute_result",
          "data": {
            "text/plain": [
              "       ip  app  device  os  channel  is_attributed  day  hour\n",
              "0   83230    3       1  13      379              0    6    14\n",
              "1   17357    3       1  19      379              0    6    14\n",
              "2   35810    3       1  13      379              0    6    14\n",
              "3   45745   14       1  13      478              0    6    14\n",
              "4  161007    3       1  13      379              0    6    14"
            ],
            "text/html": [
              "\n",
              "  <div id=\"df-9504b315-2daa-4de3-90b3-23029e107cda\" class=\"colab-df-container\">\n",
              "    <div>\n",
              "<style scoped>\n",
              "    .dataframe tbody tr th:only-of-type {\n",
              "        vertical-align: middle;\n",
              "    }\n",
              "\n",
              "    .dataframe tbody tr th {\n",
              "        vertical-align: top;\n",
              "    }\n",
              "\n",
              "    .dataframe thead th {\n",
              "        text-align: right;\n",
              "    }\n",
              "</style>\n",
              "<table border=\"1\" class=\"dataframe\">\n",
              "  <thead>\n",
              "    <tr style=\"text-align: right;\">\n",
              "      <th></th>\n",
              "      <th>ip</th>\n",
              "      <th>app</th>\n",
              "      <th>device</th>\n",
              "      <th>os</th>\n",
              "      <th>channel</th>\n",
              "      <th>is_attributed</th>\n",
              "      <th>day</th>\n",
              "      <th>hour</th>\n",
              "    </tr>\n",
              "  </thead>\n",
              "  <tbody>\n",
              "    <tr>\n",
              "      <th>0</th>\n",
              "      <td>83230</td>\n",
              "      <td>3</td>\n",
              "      <td>1</td>\n",
              "      <td>13</td>\n",
              "      <td>379</td>\n",
              "      <td>0</td>\n",
              "      <td>6</td>\n",
              "      <td>14</td>\n",
              "    </tr>\n",
              "    <tr>\n",
              "      <th>1</th>\n",
              "      <td>17357</td>\n",
              "      <td>3</td>\n",
              "      <td>1</td>\n",
              "      <td>19</td>\n",
              "      <td>379</td>\n",
              "      <td>0</td>\n",
              "      <td>6</td>\n",
              "      <td>14</td>\n",
              "    </tr>\n",
              "    <tr>\n",
              "      <th>2</th>\n",
              "      <td>35810</td>\n",
              "      <td>3</td>\n",
              "      <td>1</td>\n",
              "      <td>13</td>\n",
              "      <td>379</td>\n",
              "      <td>0</td>\n",
              "      <td>6</td>\n",
              "      <td>14</td>\n",
              "    </tr>\n",
              "    <tr>\n",
              "      <th>3</th>\n",
              "      <td>45745</td>\n",
              "      <td>14</td>\n",
              "      <td>1</td>\n",
              "      <td>13</td>\n",
              "      <td>478</td>\n",
              "      <td>0</td>\n",
              "      <td>6</td>\n",
              "      <td>14</td>\n",
              "    </tr>\n",
              "    <tr>\n",
              "      <th>4</th>\n",
              "      <td>161007</td>\n",
              "      <td>3</td>\n",
              "      <td>1</td>\n",
              "      <td>13</td>\n",
              "      <td>379</td>\n",
              "      <td>0</td>\n",
              "      <td>6</td>\n",
              "      <td>14</td>\n",
              "    </tr>\n",
              "  </tbody>\n",
              "</table>\n",
              "</div>\n",
              "    <div class=\"colab-df-buttons\">\n",
              "\n",
              "  <div class=\"colab-df-container\">\n",
              "    <button class=\"colab-df-convert\" onclick=\"convertToInteractive('df-9504b315-2daa-4de3-90b3-23029e107cda')\"\n",
              "            title=\"Convert this dataframe to an interactive table.\"\n",
              "            style=\"display:none;\">\n",
              "\n",
              "  <svg xmlns=\"http://www.w3.org/2000/svg\" height=\"24px\" viewBox=\"0 -960 960 960\">\n",
              "    <path d=\"M120-120v-720h720v720H120Zm60-500h600v-160H180v160Zm220 220h160v-160H400v160Zm0 220h160v-160H400v160ZM180-400h160v-160H180v160Zm440 0h160v-160H620v160ZM180-180h160v-160H180v160Zm440 0h160v-160H620v160Z\"/>\n",
              "  </svg>\n",
              "    </button>\n",
              "\n",
              "  <style>\n",
              "    .colab-df-container {\n",
              "      display:flex;\n",
              "      gap: 12px;\n",
              "    }\n",
              "\n",
              "    .colab-df-convert {\n",
              "      background-color: #E8F0FE;\n",
              "      border: none;\n",
              "      border-radius: 50%;\n",
              "      cursor: pointer;\n",
              "      display: none;\n",
              "      fill: #1967D2;\n",
              "      height: 32px;\n",
              "      padding: 0 0 0 0;\n",
              "      width: 32px;\n",
              "    }\n",
              "\n",
              "    .colab-df-convert:hover {\n",
              "      background-color: #E2EBFA;\n",
              "      box-shadow: 0px 1px 2px rgba(60, 64, 67, 0.3), 0px 1px 3px 1px rgba(60, 64, 67, 0.15);\n",
              "      fill: #174EA6;\n",
              "    }\n",
              "\n",
              "    .colab-df-buttons div {\n",
              "      margin-bottom: 4px;\n",
              "    }\n",
              "\n",
              "    [theme=dark] .colab-df-convert {\n",
              "      background-color: #3B4455;\n",
              "      fill: #D2E3FC;\n",
              "    }\n",
              "\n",
              "    [theme=dark] .colab-df-convert:hover {\n",
              "      background-color: #434B5C;\n",
              "      box-shadow: 0px 1px 3px 1px rgba(0, 0, 0, 0.15);\n",
              "      filter: drop-shadow(0px 1px 2px rgba(0, 0, 0, 0.3));\n",
              "      fill: #FFFFFF;\n",
              "    }\n",
              "  </style>\n",
              "\n",
              "    <script>\n",
              "      const buttonEl =\n",
              "        document.querySelector('#df-9504b315-2daa-4de3-90b3-23029e107cda button.colab-df-convert');\n",
              "      buttonEl.style.display =\n",
              "        google.colab.kernel.accessAllowed ? 'block' : 'none';\n",
              "\n",
              "      async function convertToInteractive(key) {\n",
              "        const element = document.querySelector('#df-9504b315-2daa-4de3-90b3-23029e107cda');\n",
              "        const dataTable =\n",
              "          await google.colab.kernel.invokeFunction('convertToInteractive',\n",
              "                                                    [key], {});\n",
              "        if (!dataTable) return;\n",
              "\n",
              "        const docLinkHtml = 'Like what you see? Visit the ' +\n",
              "          '<a target=\"_blank\" href=https://colab.research.google.com/notebooks/data_table.ipynb>data table notebook</a>'\n",
              "          + ' to learn more about interactive tables.';\n",
              "        element.innerHTML = '';\n",
              "        dataTable['output_type'] = 'display_data';\n",
              "        await google.colab.output.renderOutput(dataTable, element);\n",
              "        const docLink = document.createElement('div');\n",
              "        docLink.innerHTML = docLinkHtml;\n",
              "        element.appendChild(docLink);\n",
              "      }\n",
              "    </script>\n",
              "  </div>\n",
              "\n",
              "\n",
              "<div id=\"df-5f36aa08-a3f7-4a97-8932-a86ba32835ee\">\n",
              "  <button class=\"colab-df-quickchart\" onclick=\"quickchart('df-5f36aa08-a3f7-4a97-8932-a86ba32835ee')\"\n",
              "            title=\"Suggest charts\"\n",
              "            style=\"display:none;\">\n",
              "\n",
              "<svg xmlns=\"http://www.w3.org/2000/svg\" height=\"24px\"viewBox=\"0 0 24 24\"\n",
              "     width=\"24px\">\n",
              "    <g>\n",
              "        <path d=\"M19 3H5c-1.1 0-2 .9-2 2v14c0 1.1.9 2 2 2h14c1.1 0 2-.9 2-2V5c0-1.1-.9-2-2-2zM9 17H7v-7h2v7zm4 0h-2V7h2v10zm4 0h-2v-4h2v4z\"/>\n",
              "    </g>\n",
              "</svg>\n",
              "  </button>\n",
              "\n",
              "<style>\n",
              "  .colab-df-quickchart {\n",
              "      --bg-color: #E8F0FE;\n",
              "      --fill-color: #1967D2;\n",
              "      --hover-bg-color: #E2EBFA;\n",
              "      --hover-fill-color: #174EA6;\n",
              "      --disabled-fill-color: #AAA;\n",
              "      --disabled-bg-color: #DDD;\n",
              "  }\n",
              "\n",
              "  [theme=dark] .colab-df-quickchart {\n",
              "      --bg-color: #3B4455;\n",
              "      --fill-color: #D2E3FC;\n",
              "      --hover-bg-color: #434B5C;\n",
              "      --hover-fill-color: #FFFFFF;\n",
              "      --disabled-bg-color: #3B4455;\n",
              "      --disabled-fill-color: #666;\n",
              "  }\n",
              "\n",
              "  .colab-df-quickchart {\n",
              "    background-color: var(--bg-color);\n",
              "    border: none;\n",
              "    border-radius: 50%;\n",
              "    cursor: pointer;\n",
              "    display: none;\n",
              "    fill: var(--fill-color);\n",
              "    height: 32px;\n",
              "    padding: 0;\n",
              "    width: 32px;\n",
              "  }\n",
              "\n",
              "  .colab-df-quickchart:hover {\n",
              "    background-color: var(--hover-bg-color);\n",
              "    box-shadow: 0 1px 2px rgba(60, 64, 67, 0.3), 0 1px 3px 1px rgba(60, 64, 67, 0.15);\n",
              "    fill: var(--button-hover-fill-color);\n",
              "  }\n",
              "\n",
              "  .colab-df-quickchart-complete:disabled,\n",
              "  .colab-df-quickchart-complete:disabled:hover {\n",
              "    background-color: var(--disabled-bg-color);\n",
              "    fill: var(--disabled-fill-color);\n",
              "    box-shadow: none;\n",
              "  }\n",
              "\n",
              "  .colab-df-spinner {\n",
              "    border: 2px solid var(--fill-color);\n",
              "    border-color: transparent;\n",
              "    border-bottom-color: var(--fill-color);\n",
              "    animation:\n",
              "      spin 1s steps(1) infinite;\n",
              "  }\n",
              "\n",
              "  @keyframes spin {\n",
              "    0% {\n",
              "      border-color: transparent;\n",
              "      border-bottom-color: var(--fill-color);\n",
              "      border-left-color: var(--fill-color);\n",
              "    }\n",
              "    20% {\n",
              "      border-color: transparent;\n",
              "      border-left-color: var(--fill-color);\n",
              "      border-top-color: var(--fill-color);\n",
              "    }\n",
              "    30% {\n",
              "      border-color: transparent;\n",
              "      border-left-color: var(--fill-color);\n",
              "      border-top-color: var(--fill-color);\n",
              "      border-right-color: var(--fill-color);\n",
              "    }\n",
              "    40% {\n",
              "      border-color: transparent;\n",
              "      border-right-color: var(--fill-color);\n",
              "      border-top-color: var(--fill-color);\n",
              "    }\n",
              "    60% {\n",
              "      border-color: transparent;\n",
              "      border-right-color: var(--fill-color);\n",
              "    }\n",
              "    80% {\n",
              "      border-color: transparent;\n",
              "      border-right-color: var(--fill-color);\n",
              "      border-bottom-color: var(--fill-color);\n",
              "    }\n",
              "    90% {\n",
              "      border-color: transparent;\n",
              "      border-bottom-color: var(--fill-color);\n",
              "    }\n",
              "  }\n",
              "</style>\n",
              "\n",
              "  <script>\n",
              "    async function quickchart(key) {\n",
              "      const quickchartButtonEl =\n",
              "        document.querySelector('#' + key + ' button');\n",
              "      quickchartButtonEl.disabled = true;  // To prevent multiple clicks.\n",
              "      quickchartButtonEl.classList.add('colab-df-spinner');\n",
              "      try {\n",
              "        const charts = await google.colab.kernel.invokeFunction(\n",
              "            'suggestCharts', [key], {});\n",
              "      } catch (error) {\n",
              "        console.error('Error during call to suggestCharts:', error);\n",
              "      }\n",
              "      quickchartButtonEl.classList.remove('colab-df-spinner');\n",
              "      quickchartButtonEl.classList.add('colab-df-quickchart-complete');\n",
              "    }\n",
              "    (() => {\n",
              "      let quickchartButtonEl =\n",
              "        document.querySelector('#df-5f36aa08-a3f7-4a97-8932-a86ba32835ee button');\n",
              "      quickchartButtonEl.style.display =\n",
              "        google.colab.kernel.accessAllowed ? 'block' : 'none';\n",
              "    })();\n",
              "  </script>\n",
              "</div>\n",
              "\n",
              "    </div>\n",
              "  </div>\n"
            ],
            "application/vnd.google.colaboratory.intrinsic+json": {
              "type": "dataframe",
              "variable_name": "dfTrain"
            }
          },
          "metadata": {},
          "execution_count": 12
        }
      ]
    },
    {
      "cell_type": "code",
      "source": [
        "dfTest.head()"
      ],
      "metadata": {
        "colab": {
          "base_uri": "https://localhost:8080/",
          "height": 206
        },
        "id": "TwdLz8h5QKgi",
        "outputId": "bc4aa519-4c22-4872-81a3-e5cfab43f81e"
      },
      "execution_count": null,
      "outputs": [
        {
          "output_type": "execute_result",
          "data": {
            "text/plain": [
              "       ip  app  device  os  channel  is_attributed  day  hour\n",
              "0  146470   15       1  10      278              0    7     0\n",
              "1  117021   15       1  22      245              0    7     0\n",
              "2    5348    3       1  13      211              0    7     0\n",
              "3   27815    2       1  19      435              0    7     0\n",
              "4   80306    1       1  22      118              0    7     0"
            ],
            "text/html": [
              "\n",
              "  <div id=\"df-9bac75aa-df0a-4ada-9825-b3e93a109f5e\" class=\"colab-df-container\">\n",
              "    <div>\n",
              "<style scoped>\n",
              "    .dataframe tbody tr th:only-of-type {\n",
              "        vertical-align: middle;\n",
              "    }\n",
              "\n",
              "    .dataframe tbody tr th {\n",
              "        vertical-align: top;\n",
              "    }\n",
              "\n",
              "    .dataframe thead th {\n",
              "        text-align: right;\n",
              "    }\n",
              "</style>\n",
              "<table border=\"1\" class=\"dataframe\">\n",
              "  <thead>\n",
              "    <tr style=\"text-align: right;\">\n",
              "      <th></th>\n",
              "      <th>ip</th>\n",
              "      <th>app</th>\n",
              "      <th>device</th>\n",
              "      <th>os</th>\n",
              "      <th>channel</th>\n",
              "      <th>is_attributed</th>\n",
              "      <th>day</th>\n",
              "      <th>hour</th>\n",
              "    </tr>\n",
              "  </thead>\n",
              "  <tbody>\n",
              "    <tr>\n",
              "      <th>0</th>\n",
              "      <td>146470</td>\n",
              "      <td>15</td>\n",
              "      <td>1</td>\n",
              "      <td>10</td>\n",
              "      <td>278</td>\n",
              "      <td>0</td>\n",
              "      <td>7</td>\n",
              "      <td>0</td>\n",
              "    </tr>\n",
              "    <tr>\n",
              "      <th>1</th>\n",
              "      <td>117021</td>\n",
              "      <td>15</td>\n",
              "      <td>1</td>\n",
              "      <td>22</td>\n",
              "      <td>245</td>\n",
              "      <td>0</td>\n",
              "      <td>7</td>\n",
              "      <td>0</td>\n",
              "    </tr>\n",
              "    <tr>\n",
              "      <th>2</th>\n",
              "      <td>5348</td>\n",
              "      <td>3</td>\n",
              "      <td>1</td>\n",
              "      <td>13</td>\n",
              "      <td>211</td>\n",
              "      <td>0</td>\n",
              "      <td>7</td>\n",
              "      <td>0</td>\n",
              "    </tr>\n",
              "    <tr>\n",
              "      <th>3</th>\n",
              "      <td>27815</td>\n",
              "      <td>2</td>\n",
              "      <td>1</td>\n",
              "      <td>19</td>\n",
              "      <td>435</td>\n",
              "      <td>0</td>\n",
              "      <td>7</td>\n",
              "      <td>0</td>\n",
              "    </tr>\n",
              "    <tr>\n",
              "      <th>4</th>\n",
              "      <td>80306</td>\n",
              "      <td>1</td>\n",
              "      <td>1</td>\n",
              "      <td>22</td>\n",
              "      <td>118</td>\n",
              "      <td>0</td>\n",
              "      <td>7</td>\n",
              "      <td>0</td>\n",
              "    </tr>\n",
              "  </tbody>\n",
              "</table>\n",
              "</div>\n",
              "    <div class=\"colab-df-buttons\">\n",
              "\n",
              "  <div class=\"colab-df-container\">\n",
              "    <button class=\"colab-df-convert\" onclick=\"convertToInteractive('df-9bac75aa-df0a-4ada-9825-b3e93a109f5e')\"\n",
              "            title=\"Convert this dataframe to an interactive table.\"\n",
              "            style=\"display:none;\">\n",
              "\n",
              "  <svg xmlns=\"http://www.w3.org/2000/svg\" height=\"24px\" viewBox=\"0 -960 960 960\">\n",
              "    <path d=\"M120-120v-720h720v720H120Zm60-500h600v-160H180v160Zm220 220h160v-160H400v160Zm0 220h160v-160H400v160ZM180-400h160v-160H180v160Zm440 0h160v-160H620v160ZM180-180h160v-160H180v160Zm440 0h160v-160H620v160Z\"/>\n",
              "  </svg>\n",
              "    </button>\n",
              "\n",
              "  <style>\n",
              "    .colab-df-container {\n",
              "      display:flex;\n",
              "      gap: 12px;\n",
              "    }\n",
              "\n",
              "    .colab-df-convert {\n",
              "      background-color: #E8F0FE;\n",
              "      border: none;\n",
              "      border-radius: 50%;\n",
              "      cursor: pointer;\n",
              "      display: none;\n",
              "      fill: #1967D2;\n",
              "      height: 32px;\n",
              "      padding: 0 0 0 0;\n",
              "      width: 32px;\n",
              "    }\n",
              "\n",
              "    .colab-df-convert:hover {\n",
              "      background-color: #E2EBFA;\n",
              "      box-shadow: 0px 1px 2px rgba(60, 64, 67, 0.3), 0px 1px 3px 1px rgba(60, 64, 67, 0.15);\n",
              "      fill: #174EA6;\n",
              "    }\n",
              "\n",
              "    .colab-df-buttons div {\n",
              "      margin-bottom: 4px;\n",
              "    }\n",
              "\n",
              "    [theme=dark] .colab-df-convert {\n",
              "      background-color: #3B4455;\n",
              "      fill: #D2E3FC;\n",
              "    }\n",
              "\n",
              "    [theme=dark] .colab-df-convert:hover {\n",
              "      background-color: #434B5C;\n",
              "      box-shadow: 0px 1px 3px 1px rgba(0, 0, 0, 0.15);\n",
              "      filter: drop-shadow(0px 1px 2px rgba(0, 0, 0, 0.3));\n",
              "      fill: #FFFFFF;\n",
              "    }\n",
              "  </style>\n",
              "\n",
              "    <script>\n",
              "      const buttonEl =\n",
              "        document.querySelector('#df-9bac75aa-df0a-4ada-9825-b3e93a109f5e button.colab-df-convert');\n",
              "      buttonEl.style.display =\n",
              "        google.colab.kernel.accessAllowed ? 'block' : 'none';\n",
              "\n",
              "      async function convertToInteractive(key) {\n",
              "        const element = document.querySelector('#df-9bac75aa-df0a-4ada-9825-b3e93a109f5e');\n",
              "        const dataTable =\n",
              "          await google.colab.kernel.invokeFunction('convertToInteractive',\n",
              "                                                    [key], {});\n",
              "        if (!dataTable) return;\n",
              "\n",
              "        const docLinkHtml = 'Like what you see? Visit the ' +\n",
              "          '<a target=\"_blank\" href=https://colab.research.google.com/notebooks/data_table.ipynb>data table notebook</a>'\n",
              "          + ' to learn more about interactive tables.';\n",
              "        element.innerHTML = '';\n",
              "        dataTable['output_type'] = 'display_data';\n",
              "        await google.colab.output.renderOutput(dataTable, element);\n",
              "        const docLink = document.createElement('div');\n",
              "        docLink.innerHTML = docLinkHtml;\n",
              "        element.appendChild(docLink);\n",
              "      }\n",
              "    </script>\n",
              "  </div>\n",
              "\n",
              "\n",
              "<div id=\"df-b3858c5f-064e-46f9-a412-c229529f2294\">\n",
              "  <button class=\"colab-df-quickchart\" onclick=\"quickchart('df-b3858c5f-064e-46f9-a412-c229529f2294')\"\n",
              "            title=\"Suggest charts\"\n",
              "            style=\"display:none;\">\n",
              "\n",
              "<svg xmlns=\"http://www.w3.org/2000/svg\" height=\"24px\"viewBox=\"0 0 24 24\"\n",
              "     width=\"24px\">\n",
              "    <g>\n",
              "        <path d=\"M19 3H5c-1.1 0-2 .9-2 2v14c0 1.1.9 2 2 2h14c1.1 0 2-.9 2-2V5c0-1.1-.9-2-2-2zM9 17H7v-7h2v7zm4 0h-2V7h2v10zm4 0h-2v-4h2v4z\"/>\n",
              "    </g>\n",
              "</svg>\n",
              "  </button>\n",
              "\n",
              "<style>\n",
              "  .colab-df-quickchart {\n",
              "      --bg-color: #E8F0FE;\n",
              "      --fill-color: #1967D2;\n",
              "      --hover-bg-color: #E2EBFA;\n",
              "      --hover-fill-color: #174EA6;\n",
              "      --disabled-fill-color: #AAA;\n",
              "      --disabled-bg-color: #DDD;\n",
              "  }\n",
              "\n",
              "  [theme=dark] .colab-df-quickchart {\n",
              "      --bg-color: #3B4455;\n",
              "      --fill-color: #D2E3FC;\n",
              "      --hover-bg-color: #434B5C;\n",
              "      --hover-fill-color: #FFFFFF;\n",
              "      --disabled-bg-color: #3B4455;\n",
              "      --disabled-fill-color: #666;\n",
              "  }\n",
              "\n",
              "  .colab-df-quickchart {\n",
              "    background-color: var(--bg-color);\n",
              "    border: none;\n",
              "    border-radius: 50%;\n",
              "    cursor: pointer;\n",
              "    display: none;\n",
              "    fill: var(--fill-color);\n",
              "    height: 32px;\n",
              "    padding: 0;\n",
              "    width: 32px;\n",
              "  }\n",
              "\n",
              "  .colab-df-quickchart:hover {\n",
              "    background-color: var(--hover-bg-color);\n",
              "    box-shadow: 0 1px 2px rgba(60, 64, 67, 0.3), 0 1px 3px 1px rgba(60, 64, 67, 0.15);\n",
              "    fill: var(--button-hover-fill-color);\n",
              "  }\n",
              "\n",
              "  .colab-df-quickchart-complete:disabled,\n",
              "  .colab-df-quickchart-complete:disabled:hover {\n",
              "    background-color: var(--disabled-bg-color);\n",
              "    fill: var(--disabled-fill-color);\n",
              "    box-shadow: none;\n",
              "  }\n",
              "\n",
              "  .colab-df-spinner {\n",
              "    border: 2px solid var(--fill-color);\n",
              "    border-color: transparent;\n",
              "    border-bottom-color: var(--fill-color);\n",
              "    animation:\n",
              "      spin 1s steps(1) infinite;\n",
              "  }\n",
              "\n",
              "  @keyframes spin {\n",
              "    0% {\n",
              "      border-color: transparent;\n",
              "      border-bottom-color: var(--fill-color);\n",
              "      border-left-color: var(--fill-color);\n",
              "    }\n",
              "    20% {\n",
              "      border-color: transparent;\n",
              "      border-left-color: var(--fill-color);\n",
              "      border-top-color: var(--fill-color);\n",
              "    }\n",
              "    30% {\n",
              "      border-color: transparent;\n",
              "      border-left-color: var(--fill-color);\n",
              "      border-top-color: var(--fill-color);\n",
              "      border-right-color: var(--fill-color);\n",
              "    }\n",
              "    40% {\n",
              "      border-color: transparent;\n",
              "      border-right-color: var(--fill-color);\n",
              "      border-top-color: var(--fill-color);\n",
              "    }\n",
              "    60% {\n",
              "      border-color: transparent;\n",
              "      border-right-color: var(--fill-color);\n",
              "    }\n",
              "    80% {\n",
              "      border-color: transparent;\n",
              "      border-right-color: var(--fill-color);\n",
              "      border-bottom-color: var(--fill-color);\n",
              "    }\n",
              "    90% {\n",
              "      border-color: transparent;\n",
              "      border-bottom-color: var(--fill-color);\n",
              "    }\n",
              "  }\n",
              "</style>\n",
              "\n",
              "  <script>\n",
              "    async function quickchart(key) {\n",
              "      const quickchartButtonEl =\n",
              "        document.querySelector('#' + key + ' button');\n",
              "      quickchartButtonEl.disabled = true;  // To prevent multiple clicks.\n",
              "      quickchartButtonEl.classList.add('colab-df-spinner');\n",
              "      try {\n",
              "        const charts = await google.colab.kernel.invokeFunction(\n",
              "            'suggestCharts', [key], {});\n",
              "      } catch (error) {\n",
              "        console.error('Error during call to suggestCharts:', error);\n",
              "      }\n",
              "      quickchartButtonEl.classList.remove('colab-df-spinner');\n",
              "      quickchartButtonEl.classList.add('colab-df-quickchart-complete');\n",
              "    }\n",
              "    (() => {\n",
              "      let quickchartButtonEl =\n",
              "        document.querySelector('#df-b3858c5f-064e-46f9-a412-c229529f2294 button');\n",
              "      quickchartButtonEl.style.display =\n",
              "        google.colab.kernel.accessAllowed ? 'block' : 'none';\n",
              "    })();\n",
              "  </script>\n",
              "</div>\n",
              "\n",
              "    </div>\n",
              "  </div>\n"
            ],
            "application/vnd.google.colaboratory.intrinsic+json": {
              "type": "dataframe",
              "variable_name": "dfTest"
            }
          },
          "metadata": {},
          "execution_count": 13
        }
      ]
    },
    {
      "cell_type": "code",
      "source": [
        "def check_true_positive_ratio(data):\n",
        "    nrows = len(data)\n",
        "    print(\"Number of rows in the dataframe: \", nrows)\n",
        "    npositive = data.is_attributed.sum() #since is_attributed has either 0 or 1. 1 is for positive cases\n",
        "    print(\"Number of positive cases are \" + str(npositive))\n",
        "    nnegative = nrows - npositive\n",
        "    positive_ratio = np.longdouble(npositive/nrows)\n",
        "    print(\"Positive data ratio is \", positive_ratio*100, \"%\")"
      ],
      "metadata": {
        "id": "cJ8EyV2n4-1n"
      },
      "execution_count": null,
      "outputs": []
    },
    {
      "cell_type": "code",
      "source": [
        "def positive_set(dataframe):\n",
        "    #nRows = len(dataframe)\n",
        "    #nPos = dataframe.is_attributed.sum()\n",
        "    #nNeg = nRows - nPos\n",
        "    #r = np.longdouble(nPos/nRows)\n",
        "    posEx = dataframe [ (dataframe['is_attributed'] == 1) ]\n",
        "    #print(\"Number of positive data is \" + str(len(posEx)) + \" rows\")\n",
        "    return posEx"
      ],
      "metadata": {
        "id": "Tfqr7Fw35GM5"
      },
      "execution_count": null,
      "outputs": []
    },
    {
      "cell_type": "code",
      "source": [
        "def downsampling(dataframe, posDataframe):\n",
        "    nRows = len(dataframe)\n",
        "    nPos = len(posDataframe)\n",
        "    nNeg = nRows - nPos\n",
        "    r = np.longdouble(nPos/nRows)\n",
        "    #randomly shuffle the dataframe and pick negative rows with shuffling and replacement\n",
        "    random_int = random.randint(1,50)\n",
        "    random_state = np.random.RandomState(random_int)\n",
        "    sampledNegEx =  dataframe [ (dataframe['is_attributed'] == 0) ].sample(frac=r,random_state=random_state)\n",
        "    newTrainsubs = [posDataframe, sampledNegEx]\n",
        "    dfTrainBal = pd.concat(newTrainsubs)\n",
        "    newRows = len(dfTrainBal)\n",
        "    newPos = dfTrainBal.is_attributed.sum()\n",
        "    newNeg = nRows - nPos\n",
        "    rr = np.longdouble(newPos/newRows)\n",
        "    return dfTrainBal"
      ],
      "metadata": {
        "id": "9CHWqBBR5VPp"
      },
      "execution_count": null,
      "outputs": []
    },
    {
      "cell_type": "code",
      "source": [
        "def create_chunks(dataframe):\n",
        "    print(\"Creating 10 chunks\")\n",
        "    #get only positive data\n",
        "    pos_set = positive_set(dataframe)\n",
        "    #downsample the data to get balanced chunk\n",
        "    balanced_chunks = []\n",
        "    for i in range(10):\n",
        "        balanced_chunks.append(downsampling(dataframe, pos_set))\n",
        "\n",
        "    return balanced_chunks"
      ],
      "metadata": {
        "id": "Xk8GRQ5i5ZMJ"
      },
      "execution_count": null,
      "outputs": []
    },
    {
      "cell_type": "code",
      "source": [
        "dfTrainBal = create_chunks(dfTrain)"
      ],
      "metadata": {
        "colab": {
          "base_uri": "https://localhost:8080/"
        },
        "id": "hJKh551MP48-",
        "outputId": "cf739a18-ad1e-43fb-ca02-7044d2c543d2"
      },
      "execution_count": null,
      "outputs": [
        {
          "output_type": "stream",
          "name": "stdout",
          "text": [
            "Creating 10 chunks\n"
          ]
        }
      ]
    },
    {
      "cell_type": "code",
      "source": [
        "print(\"Checking positive ratio in each chunk now\")\n",
        "for chunk in dfTrainBal:\n",
        "    check_true_positive_ratio(chunk)\n",
        "    print(\"===============================\")"
      ],
      "metadata": {
        "colab": {
          "base_uri": "https://localhost:8080/"
        },
        "id": "4lQ5at34P9JQ",
        "outputId": "8db8939d-ced8-4483-cd3d-07bf0728a6b5"
      },
      "execution_count": null,
      "outputs": [
        {
          "output_type": "stream",
          "name": "stdout",
          "text": [
            "Checking positive ratio in each chunk now\n",
            "Number of rows in the dataframe:  37399\n",
            "Number of positive cases are 18717\n",
            "Positive data ratio is  50.04679269499184846 %\n",
            "===============================\n",
            "Number of rows in the dataframe:  37399\n",
            "Number of positive cases are 18717\n",
            "Positive data ratio is  50.04679269499184846 %\n",
            "===============================\n",
            "Number of rows in the dataframe:  37399\n",
            "Number of positive cases are 18717\n",
            "Positive data ratio is  50.04679269499184846 %\n",
            "===============================\n",
            "Number of rows in the dataframe:  37399\n",
            "Number of positive cases are 18717\n",
            "Positive data ratio is  50.04679269499184846 %\n",
            "===============================\n",
            "Number of rows in the dataframe:  37399\n",
            "Number of positive cases are 18717\n",
            "Positive data ratio is  50.04679269499184846 %\n",
            "===============================\n",
            "Number of rows in the dataframe:  37399\n",
            "Number of positive cases are 18717\n",
            "Positive data ratio is  50.04679269499184846 %\n",
            "===============================\n",
            "Number of rows in the dataframe:  37399\n",
            "Number of positive cases are 18717\n",
            "Positive data ratio is  50.04679269499184846 %\n",
            "===============================\n",
            "Number of rows in the dataframe:  37399\n",
            "Number of positive cases are 18717\n",
            "Positive data ratio is  50.04679269499184846 %\n",
            "===============================\n",
            "Number of rows in the dataframe:  37399\n",
            "Number of positive cases are 18717\n",
            "Positive data ratio is  50.04679269499184846 %\n",
            "===============================\n",
            "Number of rows in the dataframe:  37399\n",
            "Number of positive cases are 18717\n",
            "Positive data ratio is  50.04679269499184846 %\n",
            "===============================\n"
          ]
        }
      ]
    },
    {
      "cell_type": "code",
      "source": [
        "import matplotlib.pyplot as plt\n",
        "\n",
        "# Assuming df is your DataFrame containing 'is_attributed' column\n",
        "value_counts = dfTrain['is_attributed'].value_counts(normalize=True) * 100\n",
        "\n",
        "# Extracting values and index labels\n",
        "values = value_counts.values\n",
        "labels = value_counts.index.astype(str)\n",
        "\n",
        "# Creating a bar plot\n",
        "plt.bar(labels, values, color=['blue', 'orange'])\n",
        "\n",
        "# Adding percentages above bars\n",
        "for i in range(len(labels)):\n",
        "    plt.text(i, values[i] + 0.5, f'{values[i]:.2f}%', ha='center')\n",
        "\n",
        "# Adding title and labels\n",
        "plt.title(\"Plot of App Downloaded vs Not Downloaded\")\n",
        "plt.xlabel(\"Attribution\")\n",
        "plt.ylabel(\"Percentage\")\n",
        "\n",
        "# Display the plot\n",
        "plt.show()"
      ],
      "metadata": {
        "id": "DEa8vxhLcBJH"
      },
      "execution_count": null,
      "outputs": []
    },
    {
      "cell_type": "code",
      "source": [
        "dfTrainBal[0] [ (dfTrainBal[0]['is_attributed'] == 0) ].head()\n",
        "\n",
        "\n",
        "\n",
        "dfTrainBal[1] [ (dfTrainBal[1]['is_attributed'] == 0) ].head()\n",
        "\n",
        "dfTrainBal[2] [ (dfTrainBal[2]['is_attributed'] == 0) ].head()\n",
        "\n",
        "dfTrainBal[3] [ (dfTrainBal[3]['is_attributed'] == 0) ].head()"
      ],
      "metadata": {
        "colab": {
          "base_uri": "https://localhost:8080/",
          "height": 206
        },
        "id": "-6SQQg8YQBuW",
        "outputId": "b97c0f2a-203f-42f3-be3e-dd34af0aaaa1"
      },
      "execution_count": null,
      "outputs": [
        {
          "output_type": "execute_result",
          "data": {
            "text/plain": [
              "             ip  app  device  os  channel  is_attributed  day  hour\n",
              "3710250   15773    3       1  16      115              0    6    18\n",
              "9509254  103672    2       1  19      469              0    7     0\n",
              "7890067   93012   12       1  19      178              0    6    23\n",
              "1842856    7246    9       1  13      258              0    6    16\n",
              "3328071   61489   12       1  13      259              0    6    17"
            ],
            "text/html": [
              "\n",
              "  <div id=\"df-3531eee5-bf80-4a23-9e11-336bde6940b1\" class=\"colab-df-container\">\n",
              "    <div>\n",
              "<style scoped>\n",
              "    .dataframe tbody tr th:only-of-type {\n",
              "        vertical-align: middle;\n",
              "    }\n",
              "\n",
              "    .dataframe tbody tr th {\n",
              "        vertical-align: top;\n",
              "    }\n",
              "\n",
              "    .dataframe thead th {\n",
              "        text-align: right;\n",
              "    }\n",
              "</style>\n",
              "<table border=\"1\" class=\"dataframe\">\n",
              "  <thead>\n",
              "    <tr style=\"text-align: right;\">\n",
              "      <th></th>\n",
              "      <th>ip</th>\n",
              "      <th>app</th>\n",
              "      <th>device</th>\n",
              "      <th>os</th>\n",
              "      <th>channel</th>\n",
              "      <th>is_attributed</th>\n",
              "      <th>day</th>\n",
              "      <th>hour</th>\n",
              "    </tr>\n",
              "  </thead>\n",
              "  <tbody>\n",
              "    <tr>\n",
              "      <th>3710250</th>\n",
              "      <td>15773</td>\n",
              "      <td>3</td>\n",
              "      <td>1</td>\n",
              "      <td>16</td>\n",
              "      <td>115</td>\n",
              "      <td>0</td>\n",
              "      <td>6</td>\n",
              "      <td>18</td>\n",
              "    </tr>\n",
              "    <tr>\n",
              "      <th>9509254</th>\n",
              "      <td>103672</td>\n",
              "      <td>2</td>\n",
              "      <td>1</td>\n",
              "      <td>19</td>\n",
              "      <td>469</td>\n",
              "      <td>0</td>\n",
              "      <td>7</td>\n",
              "      <td>0</td>\n",
              "    </tr>\n",
              "    <tr>\n",
              "      <th>7890067</th>\n",
              "      <td>93012</td>\n",
              "      <td>12</td>\n",
              "      <td>1</td>\n",
              "      <td>19</td>\n",
              "      <td>178</td>\n",
              "      <td>0</td>\n",
              "      <td>6</td>\n",
              "      <td>23</td>\n",
              "    </tr>\n",
              "    <tr>\n",
              "      <th>1842856</th>\n",
              "      <td>7246</td>\n",
              "      <td>9</td>\n",
              "      <td>1</td>\n",
              "      <td>13</td>\n",
              "      <td>258</td>\n",
              "      <td>0</td>\n",
              "      <td>6</td>\n",
              "      <td>16</td>\n",
              "    </tr>\n",
              "    <tr>\n",
              "      <th>3328071</th>\n",
              "      <td>61489</td>\n",
              "      <td>12</td>\n",
              "      <td>1</td>\n",
              "      <td>13</td>\n",
              "      <td>259</td>\n",
              "      <td>0</td>\n",
              "      <td>6</td>\n",
              "      <td>17</td>\n",
              "    </tr>\n",
              "  </tbody>\n",
              "</table>\n",
              "</div>\n",
              "    <div class=\"colab-df-buttons\">\n",
              "\n",
              "  <div class=\"colab-df-container\">\n",
              "    <button class=\"colab-df-convert\" onclick=\"convertToInteractive('df-3531eee5-bf80-4a23-9e11-336bde6940b1')\"\n",
              "            title=\"Convert this dataframe to an interactive table.\"\n",
              "            style=\"display:none;\">\n",
              "\n",
              "  <svg xmlns=\"http://www.w3.org/2000/svg\" height=\"24px\" viewBox=\"0 -960 960 960\">\n",
              "    <path d=\"M120-120v-720h720v720H120Zm60-500h600v-160H180v160Zm220 220h160v-160H400v160Zm0 220h160v-160H400v160ZM180-400h160v-160H180v160Zm440 0h160v-160H620v160ZM180-180h160v-160H180v160Zm440 0h160v-160H620v160Z\"/>\n",
              "  </svg>\n",
              "    </button>\n",
              "\n",
              "  <style>\n",
              "    .colab-df-container {\n",
              "      display:flex;\n",
              "      gap: 12px;\n",
              "    }\n",
              "\n",
              "    .colab-df-convert {\n",
              "      background-color: #E8F0FE;\n",
              "      border: none;\n",
              "      border-radius: 50%;\n",
              "      cursor: pointer;\n",
              "      display: none;\n",
              "      fill: #1967D2;\n",
              "      height: 32px;\n",
              "      padding: 0 0 0 0;\n",
              "      width: 32px;\n",
              "    }\n",
              "\n",
              "    .colab-df-convert:hover {\n",
              "      background-color: #E2EBFA;\n",
              "      box-shadow: 0px 1px 2px rgba(60, 64, 67, 0.3), 0px 1px 3px 1px rgba(60, 64, 67, 0.15);\n",
              "      fill: #174EA6;\n",
              "    }\n",
              "\n",
              "    .colab-df-buttons div {\n",
              "      margin-bottom: 4px;\n",
              "    }\n",
              "\n",
              "    [theme=dark] .colab-df-convert {\n",
              "      background-color: #3B4455;\n",
              "      fill: #D2E3FC;\n",
              "    }\n",
              "\n",
              "    [theme=dark] .colab-df-convert:hover {\n",
              "      background-color: #434B5C;\n",
              "      box-shadow: 0px 1px 3px 1px rgba(0, 0, 0, 0.15);\n",
              "      filter: drop-shadow(0px 1px 2px rgba(0, 0, 0, 0.3));\n",
              "      fill: #FFFFFF;\n",
              "    }\n",
              "  </style>\n",
              "\n",
              "    <script>\n",
              "      const buttonEl =\n",
              "        document.querySelector('#df-3531eee5-bf80-4a23-9e11-336bde6940b1 button.colab-df-convert');\n",
              "      buttonEl.style.display =\n",
              "        google.colab.kernel.accessAllowed ? 'block' : 'none';\n",
              "\n",
              "      async function convertToInteractive(key) {\n",
              "        const element = document.querySelector('#df-3531eee5-bf80-4a23-9e11-336bde6940b1');\n",
              "        const dataTable =\n",
              "          await google.colab.kernel.invokeFunction('convertToInteractive',\n",
              "                                                    [key], {});\n",
              "        if (!dataTable) return;\n",
              "\n",
              "        const docLinkHtml = 'Like what you see? Visit the ' +\n",
              "          '<a target=\"_blank\" href=https://colab.research.google.com/notebooks/data_table.ipynb>data table notebook</a>'\n",
              "          + ' to learn more about interactive tables.';\n",
              "        element.innerHTML = '';\n",
              "        dataTable['output_type'] = 'display_data';\n",
              "        await google.colab.output.renderOutput(dataTable, element);\n",
              "        const docLink = document.createElement('div');\n",
              "        docLink.innerHTML = docLinkHtml;\n",
              "        element.appendChild(docLink);\n",
              "      }\n",
              "    </script>\n",
              "  </div>\n",
              "\n",
              "\n",
              "<div id=\"df-9d8274f7-1ad4-447d-bc7f-e51410c0c1f1\">\n",
              "  <button class=\"colab-df-quickchart\" onclick=\"quickchart('df-9d8274f7-1ad4-447d-bc7f-e51410c0c1f1')\"\n",
              "            title=\"Suggest charts\"\n",
              "            style=\"display:none;\">\n",
              "\n",
              "<svg xmlns=\"http://www.w3.org/2000/svg\" height=\"24px\"viewBox=\"0 0 24 24\"\n",
              "     width=\"24px\">\n",
              "    <g>\n",
              "        <path d=\"M19 3H5c-1.1 0-2 .9-2 2v14c0 1.1.9 2 2 2h14c1.1 0 2-.9 2-2V5c0-1.1-.9-2-2-2zM9 17H7v-7h2v7zm4 0h-2V7h2v10zm4 0h-2v-4h2v4z\"/>\n",
              "    </g>\n",
              "</svg>\n",
              "  </button>\n",
              "\n",
              "<style>\n",
              "  .colab-df-quickchart {\n",
              "      --bg-color: #E8F0FE;\n",
              "      --fill-color: #1967D2;\n",
              "      --hover-bg-color: #E2EBFA;\n",
              "      --hover-fill-color: #174EA6;\n",
              "      --disabled-fill-color: #AAA;\n",
              "      --disabled-bg-color: #DDD;\n",
              "  }\n",
              "\n",
              "  [theme=dark] .colab-df-quickchart {\n",
              "      --bg-color: #3B4455;\n",
              "      --fill-color: #D2E3FC;\n",
              "      --hover-bg-color: #434B5C;\n",
              "      --hover-fill-color: #FFFFFF;\n",
              "      --disabled-bg-color: #3B4455;\n",
              "      --disabled-fill-color: #666;\n",
              "  }\n",
              "\n",
              "  .colab-df-quickchart {\n",
              "    background-color: var(--bg-color);\n",
              "    border: none;\n",
              "    border-radius: 50%;\n",
              "    cursor: pointer;\n",
              "    display: none;\n",
              "    fill: var(--fill-color);\n",
              "    height: 32px;\n",
              "    padding: 0;\n",
              "    width: 32px;\n",
              "  }\n",
              "\n",
              "  .colab-df-quickchart:hover {\n",
              "    background-color: var(--hover-bg-color);\n",
              "    box-shadow: 0 1px 2px rgba(60, 64, 67, 0.3), 0 1px 3px 1px rgba(60, 64, 67, 0.15);\n",
              "    fill: var(--button-hover-fill-color);\n",
              "  }\n",
              "\n",
              "  .colab-df-quickchart-complete:disabled,\n",
              "  .colab-df-quickchart-complete:disabled:hover {\n",
              "    background-color: var(--disabled-bg-color);\n",
              "    fill: var(--disabled-fill-color);\n",
              "    box-shadow: none;\n",
              "  }\n",
              "\n",
              "  .colab-df-spinner {\n",
              "    border: 2px solid var(--fill-color);\n",
              "    border-color: transparent;\n",
              "    border-bottom-color: var(--fill-color);\n",
              "    animation:\n",
              "      spin 1s steps(1) infinite;\n",
              "  }\n",
              "\n",
              "  @keyframes spin {\n",
              "    0% {\n",
              "      border-color: transparent;\n",
              "      border-bottom-color: var(--fill-color);\n",
              "      border-left-color: var(--fill-color);\n",
              "    }\n",
              "    20% {\n",
              "      border-color: transparent;\n",
              "      border-left-color: var(--fill-color);\n",
              "      border-top-color: var(--fill-color);\n",
              "    }\n",
              "    30% {\n",
              "      border-color: transparent;\n",
              "      border-left-color: var(--fill-color);\n",
              "      border-top-color: var(--fill-color);\n",
              "      border-right-color: var(--fill-color);\n",
              "    }\n",
              "    40% {\n",
              "      border-color: transparent;\n",
              "      border-right-color: var(--fill-color);\n",
              "      border-top-color: var(--fill-color);\n",
              "    }\n",
              "    60% {\n",
              "      border-color: transparent;\n",
              "      border-right-color: var(--fill-color);\n",
              "    }\n",
              "    80% {\n",
              "      border-color: transparent;\n",
              "      border-right-color: var(--fill-color);\n",
              "      border-bottom-color: var(--fill-color);\n",
              "    }\n",
              "    90% {\n",
              "      border-color: transparent;\n",
              "      border-bottom-color: var(--fill-color);\n",
              "    }\n",
              "  }\n",
              "</style>\n",
              "\n",
              "  <script>\n",
              "    async function quickchart(key) {\n",
              "      const quickchartButtonEl =\n",
              "        document.querySelector('#' + key + ' button');\n",
              "      quickchartButtonEl.disabled = true;  // To prevent multiple clicks.\n",
              "      quickchartButtonEl.classList.add('colab-df-spinner');\n",
              "      try {\n",
              "        const charts = await google.colab.kernel.invokeFunction(\n",
              "            'suggestCharts', [key], {});\n",
              "      } catch (error) {\n",
              "        console.error('Error during call to suggestCharts:', error);\n",
              "      }\n",
              "      quickchartButtonEl.classList.remove('colab-df-spinner');\n",
              "      quickchartButtonEl.classList.add('colab-df-quickchart-complete');\n",
              "    }\n",
              "    (() => {\n",
              "      let quickchartButtonEl =\n",
              "        document.querySelector('#df-9d8274f7-1ad4-447d-bc7f-e51410c0c1f1 button');\n",
              "      quickchartButtonEl.style.display =\n",
              "        google.colab.kernel.accessAllowed ? 'block' : 'none';\n",
              "    })();\n",
              "  </script>\n",
              "</div>\n",
              "\n",
              "    </div>\n",
              "  </div>\n"
            ],
            "application/vnd.google.colaboratory.intrinsic+json": {
              "type": "dataframe",
              "summary": "{\n  \"name\": \"dfTrainBal[3] [ (dfTrainBal[3]['is_attributed'] == 0) ]\",\n  \"rows\": 5,\n  \"fields\": [\n    {\n      \"column\": \"ip\",\n      \"properties\": {\n        \"dtype\": \"number\",\n        \"std\": 43782,\n        \"min\": 7246,\n        \"max\": 103672,\n        \"num_unique_values\": 5,\n        \"samples\": [\n          103672,\n          61489,\n          93012\n        ],\n        \"semantic_type\": \"\",\n        \"description\": \"\"\n      }\n    },\n    {\n      \"column\": \"app\",\n      \"properties\": {\n        \"dtype\": \"number\",\n        \"std\": 4,\n        \"min\": 2,\n        \"max\": 12,\n        \"num_unique_values\": 4,\n        \"samples\": [\n          2,\n          9,\n          3\n        ],\n        \"semantic_type\": \"\",\n        \"description\": \"\"\n      }\n    },\n    {\n      \"column\": \"device\",\n      \"properties\": {\n        \"dtype\": \"number\",\n        \"std\": 0,\n        \"min\": 1,\n        \"max\": 1,\n        \"num_unique_values\": 1,\n        \"samples\": [\n          1\n        ],\n        \"semantic_type\": \"\",\n        \"description\": \"\"\n      }\n    },\n    {\n      \"column\": \"os\",\n      \"properties\": {\n        \"dtype\": \"number\",\n        \"std\": 3,\n        \"min\": 13,\n        \"max\": 19,\n        \"num_unique_values\": 3,\n        \"samples\": [\n          16\n        ],\n        \"semantic_type\": \"\",\n        \"description\": \"\"\n      }\n    },\n    {\n      \"column\": \"channel\",\n      \"properties\": {\n        \"dtype\": \"number\",\n        \"std\": 133,\n        \"min\": 115,\n        \"max\": 469,\n        \"num_unique_values\": 5,\n        \"samples\": [\n          469\n        ],\n        \"semantic_type\": \"\",\n        \"description\": \"\"\n      }\n    },\n    {\n      \"column\": \"is_attributed\",\n      \"properties\": {\n        \"dtype\": \"number\",\n        \"std\": 0,\n        \"min\": 0,\n        \"max\": 0,\n        \"num_unique_values\": 1,\n        \"samples\": [\n          0\n        ],\n        \"semantic_type\": \"\",\n        \"description\": \"\"\n      }\n    },\n    {\n      \"column\": \"day\",\n      \"properties\": {\n        \"dtype\": \"number\",\n        \"std\": 0,\n        \"min\": 6,\n        \"max\": 7,\n        \"num_unique_values\": 2,\n        \"samples\": [\n          7\n        ],\n        \"semantic_type\": \"\",\n        \"description\": \"\"\n      }\n    },\n    {\n      \"column\": \"hour\",\n      \"properties\": {\n        \"dtype\": \"number\",\n        \"std\": 8,\n        \"min\": 0,\n        \"max\": 23,\n        \"num_unique_values\": 5,\n        \"samples\": [\n          0\n        ],\n        \"semantic_type\": \"\",\n        \"description\": \"\"\n      }\n    }\n  ]\n}"
            }
          },
          "metadata": {},
          "execution_count": 19
        }
      ]
    },
    {
      "cell_type": "code",
      "source": [
        "def draw_roc(clf, chunk):\n",
        "    #building data for crossvalidation\n",
        "    random_int = random.randint(1,10)\n",
        "    random_state = np.random.RandomState(random_int)\n",
        "    split_size = 0.3\n",
        "    dTrain, dCV = model_tts(chunk, test_size=split_size, random_state=random_state, shuffle=True )\n",
        "    #Get X and y\n",
        "    yTrain = dTrain['is_attributed']\n",
        "    xTrain = dTrain.drop('is_attributed',axis=1)\n",
        "    yCV = dCV['is_attributed']\n",
        "    xCV = dCV.drop('is_attributed',axis=1)\n",
        "    tprs = []\n",
        "    aucs = []\n",
        "    result_dict = {}\n",
        "\n",
        "    mean_fpr = np.linspace(0, 1, 100)\n",
        "    model = clf.fit(xTrain, yTrain)\n",
        "    probas_ = model.predict_proba(xCV)\n",
        "    fpr, tpr, thresholds = roc_curve(yCV, probas_[:, 1])\n",
        "\n",
        "    tprs.append(interp(mean_fpr, fpr, tpr))\n",
        "    tprs[-1][0] = 0.0\n",
        "    roc_auc = auc(fpr, tpr)\n",
        "    aucs.append(roc_auc)\n",
        "    #plt.plot(fpr, tpr, lw=1, alpha=0.3, label='ROC fold %d (AUC = %0.2f)' % (0, roc_auc))\n",
        "    result_dict[\"model\"] = model\n",
        "    result_dict[\"fpr\"] = fpr\n",
        "    result_dict[\"tpr\"] = tpr\n",
        "    result_dict[\"lw\"] = 1\n",
        "    result_dict[\"alpha\"] = 0.3\n",
        "    result_dict[\"roc_fold\"] = 0\n",
        "    result_dict[\"roc_auc\"] = roc_auc\n",
        "    #print(str(clf), str(roc_auc))\n",
        "    return result_dict\n"
      ],
      "metadata": {
        "id": "-q1TNJDP51uD"
      },
      "execution_count": null,
      "outputs": []
    },
    {
      "cell_type": "code",
      "source": [
        "#building model for logistic regression\n",
        "dTrain = pd.DataFrame()\n",
        "\n",
        "dCV = pd.DataFrame()\n",
        "\n",
        "best_model_lr = {}\n",
        "\n",
        "model_list_lr = []\n",
        "\n",
        "best_auc_lr = np.float64(0)"
      ],
      "metadata": {
        "id": "BhSgq6YEQJPT"
      },
      "execution_count": null,
      "outputs": []
    },
    {
      "cell_type": "code",
      "source": [
        "#building model\n",
        "for chunk in dfTrainBal:\n",
        "    clfLR = LogisticRegression()\n",
        "    results_lr = draw_roc(clfLR, chunk)\n",
        "    print(results_lr[\"roc_auc\"])\n",
        "    model_list_lr.append(results_lr)\n",
        "\n",
        "\n",
        "for model in model_list_lr:\n",
        "    if(np.greater(model[\"roc_auc\"], best_auc_lr)):\n",
        "        best_auc_lr = model[\"roc_auc\"]\n",
        "        best_model_lr = model\n",
        "\n",
        "print(\"best auc is \" , best_model_lr[\"roc_auc\"])\n",
        "\n",
        "print(\"ROC curve for validation set for logistic regression\")\n",
        "plt.plot(best_model_lr[\"fpr\"],\n",
        "          best_model_lr[\"tpr\"], best_model_lr[\"lw\"], best_model_lr[\"alpha\"],\n",
        "          label='ROC fold %d (AUC = %0.2f)' % (0, best_model_lr[\"roc_auc\"]))\n",
        "\n",
        "best_model_lr[\"model\"]"
      ],
      "metadata": {
        "colab": {
          "base_uri": "https://localhost:8080/",
          "height": 1000
        },
        "id": "_Rplo3PGQR1e",
        "outputId": "fc6448ea-12af-43c0-f599-096de3549a0d"
      },
      "execution_count": null,
      "outputs": [
        {
          "output_type": "stream",
          "name": "stderr",
          "text": [
            "/usr/local/lib/python3.10/dist-packages/sklearn/linear_model/_logistic.py:458: ConvergenceWarning: lbfgs failed to converge (status=1):\n",
            "STOP: TOTAL NO. of ITERATIONS REACHED LIMIT.\n",
            "\n",
            "Increase the number of iterations (max_iter) or scale the data as shown in:\n",
            "    https://scikit-learn.org/stable/modules/preprocessing.html\n",
            "Please also refer to the documentation for alternative solver options:\n",
            "    https://scikit-learn.org/stable/modules/linear_model.html#logistic-regression\n",
            "  n_iter_i = _check_optimize_result(\n",
            "<ipython-input-20-49d54e7f5a0b>:21: DeprecationWarning: scipy.interp is deprecated and will be removed in SciPy 2.0.0, use numpy.interp instead\n",
            "  tprs.append(interp(mean_fpr, fpr, tpr))\n"
          ]
        },
        {
          "output_type": "stream",
          "name": "stdout",
          "text": [
            "0.7855635605355281\n"
          ]
        },
        {
          "output_type": "stream",
          "name": "stderr",
          "text": [
            "/usr/local/lib/python3.10/dist-packages/sklearn/linear_model/_logistic.py:458: ConvergenceWarning: lbfgs failed to converge (status=1):\n",
            "STOP: TOTAL NO. of ITERATIONS REACHED LIMIT.\n",
            "\n",
            "Increase the number of iterations (max_iter) or scale the data as shown in:\n",
            "    https://scikit-learn.org/stable/modules/preprocessing.html\n",
            "Please also refer to the documentation for alternative solver options:\n",
            "    https://scikit-learn.org/stable/modules/linear_model.html#logistic-regression\n",
            "  n_iter_i = _check_optimize_result(\n",
            "<ipython-input-20-49d54e7f5a0b>:21: DeprecationWarning: scipy.interp is deprecated and will be removed in SciPy 2.0.0, use numpy.interp instead\n",
            "  tprs.append(interp(mean_fpr, fpr, tpr))\n"
          ]
        },
        {
          "output_type": "stream",
          "name": "stdout",
          "text": [
            "0.7874600248584154\n"
          ]
        },
        {
          "output_type": "stream",
          "name": "stderr",
          "text": [
            "<ipython-input-20-49d54e7f5a0b>:21: DeprecationWarning: scipy.interp is deprecated and will be removed in SciPy 2.0.0, use numpy.interp instead\n",
            "  tprs.append(interp(mean_fpr, fpr, tpr))\n"
          ]
        },
        {
          "output_type": "stream",
          "name": "stdout",
          "text": [
            "0.7668133660113904\n"
          ]
        },
        {
          "output_type": "stream",
          "name": "stderr",
          "text": [
            "/usr/local/lib/python3.10/dist-packages/sklearn/linear_model/_logistic.py:458: ConvergenceWarning: lbfgs failed to converge (status=1):\n",
            "STOP: TOTAL NO. of ITERATIONS REACHED LIMIT.\n",
            "\n",
            "Increase the number of iterations (max_iter) or scale the data as shown in:\n",
            "    https://scikit-learn.org/stable/modules/preprocessing.html\n",
            "Please also refer to the documentation for alternative solver options:\n",
            "    https://scikit-learn.org/stable/modules/linear_model.html#logistic-regression\n",
            "  n_iter_i = _check_optimize_result(\n",
            "<ipython-input-20-49d54e7f5a0b>:21: DeprecationWarning: scipy.interp is deprecated and will be removed in SciPy 2.0.0, use numpy.interp instead\n",
            "  tprs.append(interp(mean_fpr, fpr, tpr))\n"
          ]
        },
        {
          "output_type": "stream",
          "name": "stdout",
          "text": [
            "0.783743478667579\n"
          ]
        },
        {
          "output_type": "stream",
          "name": "stderr",
          "text": [
            "/usr/local/lib/python3.10/dist-packages/sklearn/linear_model/_logistic.py:458: ConvergenceWarning: lbfgs failed to converge (status=1):\n",
            "STOP: TOTAL NO. of ITERATIONS REACHED LIMIT.\n",
            "\n",
            "Increase the number of iterations (max_iter) or scale the data as shown in:\n",
            "    https://scikit-learn.org/stable/modules/preprocessing.html\n",
            "Please also refer to the documentation for alternative solver options:\n",
            "    https://scikit-learn.org/stable/modules/linear_model.html#logistic-regression\n",
            "  n_iter_i = _check_optimize_result(\n",
            "<ipython-input-20-49d54e7f5a0b>:21: DeprecationWarning: scipy.interp is deprecated and will be removed in SciPy 2.0.0, use numpy.interp instead\n",
            "  tprs.append(interp(mean_fpr, fpr, tpr))\n"
          ]
        },
        {
          "output_type": "stream",
          "name": "stdout",
          "text": [
            "0.7844271636690483\n"
          ]
        },
        {
          "output_type": "stream",
          "name": "stderr",
          "text": [
            "<ipython-input-20-49d54e7f5a0b>:21: DeprecationWarning: scipy.interp is deprecated and will be removed in SciPy 2.0.0, use numpy.interp instead\n",
            "  tprs.append(interp(mean_fpr, fpr, tpr))\n"
          ]
        },
        {
          "output_type": "stream",
          "name": "stdout",
          "text": [
            "0.7851341550305388\n"
          ]
        },
        {
          "output_type": "stream",
          "name": "stderr",
          "text": [
            "/usr/local/lib/python3.10/dist-packages/sklearn/linear_model/_logistic.py:458: ConvergenceWarning: lbfgs failed to converge (status=1):\n",
            "STOP: TOTAL NO. of ITERATIONS REACHED LIMIT.\n",
            "\n",
            "Increase the number of iterations (max_iter) or scale the data as shown in:\n",
            "    https://scikit-learn.org/stable/modules/preprocessing.html\n",
            "Please also refer to the documentation for alternative solver options:\n",
            "    https://scikit-learn.org/stable/modules/linear_model.html#logistic-regression\n",
            "  n_iter_i = _check_optimize_result(\n",
            "<ipython-input-20-49d54e7f5a0b>:21: DeprecationWarning: scipy.interp is deprecated and will be removed in SciPy 2.0.0, use numpy.interp instead\n",
            "  tprs.append(interp(mean_fpr, fpr, tpr))\n"
          ]
        },
        {
          "output_type": "stream",
          "name": "stdout",
          "text": [
            "0.7815469943926375\n"
          ]
        },
        {
          "output_type": "stream",
          "name": "stderr",
          "text": [
            "/usr/local/lib/python3.10/dist-packages/sklearn/linear_model/_logistic.py:458: ConvergenceWarning: lbfgs failed to converge (status=1):\n",
            "STOP: TOTAL NO. of ITERATIONS REACHED LIMIT.\n",
            "\n",
            "Increase the number of iterations (max_iter) or scale the data as shown in:\n",
            "    https://scikit-learn.org/stable/modules/preprocessing.html\n",
            "Please also refer to the documentation for alternative solver options:\n",
            "    https://scikit-learn.org/stable/modules/linear_model.html#logistic-regression\n",
            "  n_iter_i = _check_optimize_result(\n",
            "<ipython-input-20-49d54e7f5a0b>:21: DeprecationWarning: scipy.interp is deprecated and will be removed in SciPy 2.0.0, use numpy.interp instead\n",
            "  tprs.append(interp(mean_fpr, fpr, tpr))\n"
          ]
        },
        {
          "output_type": "stream",
          "name": "stdout",
          "text": [
            "0.7677766049765602\n"
          ]
        },
        {
          "output_type": "stream",
          "name": "stderr",
          "text": [
            "/usr/local/lib/python3.10/dist-packages/sklearn/linear_model/_logistic.py:458: ConvergenceWarning: lbfgs failed to converge (status=1):\n",
            "STOP: TOTAL NO. of ITERATIONS REACHED LIMIT.\n",
            "\n",
            "Increase the number of iterations (max_iter) or scale the data as shown in:\n",
            "    https://scikit-learn.org/stable/modules/preprocessing.html\n",
            "Please also refer to the documentation for alternative solver options:\n",
            "    https://scikit-learn.org/stable/modules/linear_model.html#logistic-regression\n",
            "  n_iter_i = _check_optimize_result(\n",
            "<ipython-input-20-49d54e7f5a0b>:21: DeprecationWarning: scipy.interp is deprecated and will be removed in SciPy 2.0.0, use numpy.interp instead\n",
            "  tprs.append(interp(mean_fpr, fpr, tpr))\n"
          ]
        },
        {
          "output_type": "stream",
          "name": "stdout",
          "text": [
            "0.7859066396055723\n",
            "0.7718013618583008\n",
            "best auc is  0.7874600248584154\n",
            "ROC curve for validation set for logistic regression\n"
          ]
        },
        {
          "output_type": "stream",
          "name": "stderr",
          "text": [
            "/usr/local/lib/python3.10/dist-packages/sklearn/linear_model/_logistic.py:458: ConvergenceWarning: lbfgs failed to converge (status=1):\n",
            "STOP: TOTAL NO. of ITERATIONS REACHED LIMIT.\n",
            "\n",
            "Increase the number of iterations (max_iter) or scale the data as shown in:\n",
            "    https://scikit-learn.org/stable/modules/preprocessing.html\n",
            "Please also refer to the documentation for alternative solver options:\n",
            "    https://scikit-learn.org/stable/modules/linear_model.html#logistic-regression\n",
            "  n_iter_i = _check_optimize_result(\n",
            "<ipython-input-20-49d54e7f5a0b>:21: DeprecationWarning: scipy.interp is deprecated and will be removed in SciPy 2.0.0, use numpy.interp instead\n",
            "  tprs.append(interp(mean_fpr, fpr, tpr))\n"
          ]
        },
        {
          "output_type": "execute_result",
          "data": {
            "text/plain": [
              "LogisticRegression()"
            ],
            "text/html": [
              "<style>#sk-container-id-1 {color: black;background-color: white;}#sk-container-id-1 pre{padding: 0;}#sk-container-id-1 div.sk-toggleable {background-color: white;}#sk-container-id-1 label.sk-toggleable__label {cursor: pointer;display: block;width: 100%;margin-bottom: 0;padding: 0.3em;box-sizing: border-box;text-align: center;}#sk-container-id-1 label.sk-toggleable__label-arrow:before {content: \"▸\";float: left;margin-right: 0.25em;color: #696969;}#sk-container-id-1 label.sk-toggleable__label-arrow:hover:before {color: black;}#sk-container-id-1 div.sk-estimator:hover label.sk-toggleable__label-arrow:before {color: black;}#sk-container-id-1 div.sk-toggleable__content {max-height: 0;max-width: 0;overflow: hidden;text-align: left;background-color: #f0f8ff;}#sk-container-id-1 div.sk-toggleable__content pre {margin: 0.2em;color: black;border-radius: 0.25em;background-color: #f0f8ff;}#sk-container-id-1 input.sk-toggleable__control:checked~div.sk-toggleable__content {max-height: 200px;max-width: 100%;overflow: auto;}#sk-container-id-1 input.sk-toggleable__control:checked~label.sk-toggleable__label-arrow:before {content: \"▾\";}#sk-container-id-1 div.sk-estimator input.sk-toggleable__control:checked~label.sk-toggleable__label {background-color: #d4ebff;}#sk-container-id-1 div.sk-label input.sk-toggleable__control:checked~label.sk-toggleable__label {background-color: #d4ebff;}#sk-container-id-1 input.sk-hidden--visually {border: 0;clip: rect(1px 1px 1px 1px);clip: rect(1px, 1px, 1px, 1px);height: 1px;margin: -1px;overflow: hidden;padding: 0;position: absolute;width: 1px;}#sk-container-id-1 div.sk-estimator {font-family: monospace;background-color: #f0f8ff;border: 1px dotted black;border-radius: 0.25em;box-sizing: border-box;margin-bottom: 0.5em;}#sk-container-id-1 div.sk-estimator:hover {background-color: #d4ebff;}#sk-container-id-1 div.sk-parallel-item::after {content: \"\";width: 100%;border-bottom: 1px solid gray;flex-grow: 1;}#sk-container-id-1 div.sk-label:hover label.sk-toggleable__label {background-color: #d4ebff;}#sk-container-id-1 div.sk-serial::before {content: \"\";position: absolute;border-left: 1px solid gray;box-sizing: border-box;top: 0;bottom: 0;left: 50%;z-index: 0;}#sk-container-id-1 div.sk-serial {display: flex;flex-direction: column;align-items: center;background-color: white;padding-right: 0.2em;padding-left: 0.2em;position: relative;}#sk-container-id-1 div.sk-item {position: relative;z-index: 1;}#sk-container-id-1 div.sk-parallel {display: flex;align-items: stretch;justify-content: center;background-color: white;position: relative;}#sk-container-id-1 div.sk-item::before, #sk-container-id-1 div.sk-parallel-item::before {content: \"\";position: absolute;border-left: 1px solid gray;box-sizing: border-box;top: 0;bottom: 0;left: 50%;z-index: -1;}#sk-container-id-1 div.sk-parallel-item {display: flex;flex-direction: column;z-index: 1;position: relative;background-color: white;}#sk-container-id-1 div.sk-parallel-item:first-child::after {align-self: flex-end;width: 50%;}#sk-container-id-1 div.sk-parallel-item:last-child::after {align-self: flex-start;width: 50%;}#sk-container-id-1 div.sk-parallel-item:only-child::after {width: 0;}#sk-container-id-1 div.sk-dashed-wrapped {border: 1px dashed gray;margin: 0 0.4em 0.5em 0.4em;box-sizing: border-box;padding-bottom: 0.4em;background-color: white;}#sk-container-id-1 div.sk-label label {font-family: monospace;font-weight: bold;display: inline-block;line-height: 1.2em;}#sk-container-id-1 div.sk-label-container {text-align: center;}#sk-container-id-1 div.sk-container {/* jupyter's `normalize.less` sets `[hidden] { display: none; }` but bootstrap.min.css set `[hidden] { display: none !important; }` so we also need the `!important` here to be able to override the default hidden behavior on the sphinx rendered scikit-learn.org. See: https://github.com/scikit-learn/scikit-learn/issues/21755 */display: inline-block !important;position: relative;}#sk-container-id-1 div.sk-text-repr-fallback {display: none;}</style><div id=\"sk-container-id-1\" class=\"sk-top-container\"><div class=\"sk-text-repr-fallback\"><pre>LogisticRegression()</pre><b>In a Jupyter environment, please rerun this cell to show the HTML representation or trust the notebook. <br />On GitHub, the HTML representation is unable to render, please try loading this page with nbviewer.org.</b></div><div class=\"sk-container\" hidden><div class=\"sk-item\"><div class=\"sk-estimator sk-toggleable\"><input class=\"sk-toggleable__control sk-hidden--visually\" id=\"sk-estimator-id-1\" type=\"checkbox\" checked><label for=\"sk-estimator-id-1\" class=\"sk-toggleable__label sk-toggleable__label-arrow\">LogisticRegression</label><div class=\"sk-toggleable__content\"><pre>LogisticRegression()</pre></div></div></div></div></div>"
            ]
          },
          "metadata": {},
          "execution_count": 22
        },
        {
          "output_type": "display_data",
          "data": {
            "text/plain": [
              "<Figure size 640x480 with 1 Axes>"
            ],
            "image/png": "[encoded data removed]"
          },
          "metadata": {}
        }
      ]
    },
    {
      "cell_type": "code",
      "source": [
        "def get_roc_test(model, test_data):\n",
        "    yTest = test_data['is_attributed']\n",
        "    xTest = test_data.drop('is_attributed',axis=1)\n",
        "    tprs = []\n",
        "    aucs = []\n",
        "    result_dict = {}\n",
        "    mean_fpr = np.linspace(0, 1, 100)\n",
        "    probas_ = model.predict_proba(xTest)\n",
        "    fpr, tpr, thresholds = roc_curve(yTest, probas_[:, 1])\n",
        "    tprs.append(np.interp(mean_fpr, fpr, tpr))\n",
        "    tprs[-1][0] = 0.0\n",
        "    roc_auc = auc(fpr, tpr)\n",
        "    aucs.append(roc_auc)\n",
        "    #plt.plot(fpr, tpr, lw=1, alpha=0.3, label='ROC fold %d (AUC = %0.2f)' % (0, roc_auc))\n",
        "    # result_dict[\"model\"] = clf   should be there\n",
        "    result_dict[\"fpr\"] = fpr\n",
        "    result_dict[\"tpr\"] = tpr\n",
        "    result_dict[\"lw\"] = 1\n",
        "    result_dict[\"alpha\"] = 0.3\n",
        "    result_dict[\"roc_fold\"] = 0\n",
        "    result_dict[\"roc_auc\"] = roc_auc\n",
        "    #print(str(clf), str(roc_auc))\n",
        "    return result_dict"
      ],
      "metadata": {
        "id": "WeJwJL_NWdgH"
      },
      "execution_count": null,
      "outputs": []
    },
    {
      "cell_type": "code",
      "source": [
        "def display_accuracy(model, test_data):\n",
        "    yTest = test_data['is_attributed']\n",
        "    xTest = test_data.drop('is_attributed',axis=1)\n",
        "    y_pred = model.predict(xTest)\n",
        "    print(\"Model's on test set: {:.2f}\".format(model.score(xTest, yTest)))"
      ],
      "metadata": {
        "id": "GXKuWNgp5819"
      },
      "execution_count": null,
      "outputs": []
    },
    {
      "cell_type": "code",
      "source": [
        "def display_confusion_matrix(model, test_data):\n",
        "    yTest = test_data['is_attributed']\n",
        "    xTest = test_data.drop('is_attributed',axis=1)\n",
        "    y_pred = model.predict(xTest)\n",
        "    confusion_matrx = confusion_matrix(yTest, y_pred)\n",
        "    print(confusion_matrx)\n",
        "    return confusion_matrx"
      ],
      "metadata": {
        "id": "KpgbX6iQ5_lr"
      },
      "execution_count": null,
      "outputs": []
    },
    {
      "cell_type": "code",
      "source": [
        "def display_classification_report(model, test_data):\n",
        "    yTest = test_data['is_attributed']\n",
        "    xTest = test_data.drop('is_attributed',axis=1)\n",
        "    y_pred = model.predict(xTest)\n",
        "    print(classification_report(yTest, y_pred))\n"
      ],
      "metadata": {
        "id": "yDsnnPAZ6HuI"
      },
      "execution_count": null,
      "outputs": []
    },
    {
      "cell_type": "code",
      "source": [
        "dfTrain.info()"
      ],
      "metadata": {
        "id": "WofDK0nUXbIP",
        "outputId": "f6038975-0b9e-4d00-981e-fbeff75cd6d8",
        "colab": {
          "base_uri": "https://localhost:8080/"
        }
      },
      "execution_count": null,
      "outputs": [
        {
          "output_type": "stream",
          "name": "stdout",
          "text": [
            "<class 'pandas.core.frame.DataFrame'>\n",
            "RangeIndex: 10000000 entries, 0 to 9999999\n",
            "Data columns (total 8 columns):\n",
            " #   Column         Dtype\n",
            "---  ------         -----\n",
            " 0   ip             int64\n",
            " 1   app            int64\n",
            " 2   device         int64\n",
            " 3   os             int64\n",
            " 4   channel        int64\n",
            " 5   is_attributed  int64\n",
            " 6   day            int64\n",
            " 7   hour           int64\n",
            "dtypes: int64(8)\n",
            "memory usage: 610.4 MB\n"
          ]
        }
      ]
    },
    {
      "cell_type": "code",
      "source": [
        "#Testing best model for logistic regression\n",
        "test_lr = get_roc_test(best_model_lr[\"model\"], dfTest)\n",
        "print(\"best model's auc on test set for logistic regression is \" , test_lr[\"roc_auc\"])\n",
        "print(\"ROC curve for test set for logistic regression\")\n",
        "plt.plot(test_lr[\"fpr\"],\n",
        "          test_lr[\"tpr\"], test_lr[\"lw\"], test_lr[\"alpha\"],\n",
        "          label='ROC fold %d (AUC = %0.2f)' % (0, test_lr[\"roc_auc\"]))\n",
        "plt.plot([0, 1], [0, 1],'r--')\n",
        "plt.xlim([0.0, 1.0])\n",
        "plt.ylim([0.0, 1.05])\n",
        "plt.xlabel('False Positive Rate')\n",
        "plt.ylabel('True Positive Rate')\n",
        "plt.title('Receiver operating characteristic')\n",
        "plt.legend(loc=\"lower right\")\n",
        "plt.savefig('Log_ROC')\n",
        "plt.show()"
      ],
      "metadata": {
        "colab": {
          "base_uri": "https://localhost:8080/",
          "height": 507
        },
        "id": "2wsXd-QvT28e",
        "outputId": "9e613dea-b5b8-4a8d-95e5-3da4d8843253"
      },
      "execution_count": null,
      "outputs": [
        {
          "output_type": "stream",
          "name": "stdout",
          "text": [
            "best model's auc on test set for logistic regression is  0.8529516538468375\n",
            "ROC curve for test set for logistic regression\n"
          ]
        },
        {
          "output_type": "display_data",
          "data": {
            "text/plain": [
              "<Figure size 640x480 with 1 Axes>"
            ],
            "image/png": "[encoded data removed]"
          },
          "metadata": {}
        }
      ]
    },
    {
      "cell_type": "code",
      "source": [
        "#displaying accuracy of logistic model\n",
        "print(\"Logistic Model Accuracy\")\n",
        "display_accuracy(best_model_lr[\"model\"], dfTest)"
      ],
      "metadata": {
        "colab": {
          "base_uri": "https://localhost:8080/"
        },
        "id": "Kx2T1kj9VHFb",
        "outputId": "6e8a2eb8-d9fe-4c47-e4ac-9671418e42f2"
      },
      "execution_count": null,
      "outputs": [
        {
          "output_type": "stream",
          "name": "stdout",
          "text": [
            "Logistic Model Accuracy\n",
            "Model's on test set: 0.37\n"
          ]
        }
      ]
    },
    {
      "cell_type": "code",
      "source": [
        "#printing model's confusion matrix for logistic regression\n",
        "print(\"Logistic Model Confusion Matrix\")\n",
        "confsn_matrx = display_confusion_matrix(best_model_lr[\"model\"], dfTest)\n",
        "correct_predictions = confsn_matrx[0][0] + confsn_matrx[1][1]\n",
        "incorrect_predictions = confsn_matrx[0][1] + confsn_matrx[1][0]\n",
        "print(\"Number of correct predictions: \", correct_predictions)\n",
        "print(\"Number of incorrect predictions: \", incorrect_predictions)\n",
        "\n",
        "display_classification_report(best_model_lr[\"model\"], dfTest)"
      ],
      "metadata": {
        "colab": {
          "base_uri": "https://localhost:8080/"
        },
        "id": "dd4TzmUFVWxn",
        "outputId": "3269eeea-1840-4c20-a3f0-d088d9290f42"
      },
      "execution_count": null,
      "outputs": [
        {
          "output_type": "stream",
          "name": "stdout",
          "text": [
            "Logistic Model Confusion Matrix\n",
            "[[3623671 6345582]\n",
            " [   1546   29201]]\n",
            "Number of correct predictions:  3652872\n",
            "Number of incorrect predictions:  6347128\n",
            "              precision    recall  f1-score   support\n",
            "\n",
            "           0       1.00      0.36      0.53   9969253\n",
            "           1       0.00      0.95      0.01     30747\n",
            "\n",
            "    accuracy                           0.37  10000000\n",
            "   macro avg       0.50      0.66      0.27  10000000\n",
            "weighted avg       1.00      0.37      0.53  10000000\n",
            "\n"
          ]
        }
      ]
    },
    {
      "cell_type": "code",
      "source": [
        "#building model with random forest\n",
        "dTrain = pd.DataFrame()\n",
        "\n",
        "dCV = pd.DataFrame()\n",
        "\n",
        "split_size = 0.2\n",
        "best_model_rf = {}\n",
        "model_list_rf = []\n",
        "best_auc_rf = np.float64(0)\n"
      ],
      "metadata": {
        "id": "VQ3vr_lmeEgU"
      },
      "execution_count": null,
      "outputs": []
    },
    {
      "cell_type": "code",
      "source": [
        "#building model\n",
        "for chunk in dfTrainBal:\n",
        "    random_int = random.randint(1,10)\n",
        "    random_state = np.random.RandomState(random_int)\n",
        "    #building data for crossvalidation\n",
        "    dTrain, dCV = model_tts(chunk, test_size=split_size, random_state=random_state, shuffle=True )\n",
        "    #Get X and y\n",
        "    yTrain = dTrain['is_attributed']\n",
        "    xTrain = dTrain.drop('is_attributed',axis=1)\n",
        "    yCV = dCV['is_attributed']\n",
        "    xCV = dCV.drop('is_attributed',axis=1)\n",
        "    clfRF = RandomForestClassifier(n_estimators=100,random_state=random_state)\n",
        "    results_rf = draw_roc(clfRF, chunk)\n",
        "    model_list_rf.append(results_rf)\n",
        "    print(results_rf[\"roc_auc\"])"
      ],
      "metadata": {
        "colab": {
          "base_uri": "https://localhost:8080/"
        },
        "id": "VmusYwOSeoha",
        "outputId": "6230bf91-d2b3-4a55-e9cf-c9f51fd39198"
      },
      "execution_count": null,
      "outputs": [
        {
          "output_type": "stream",
          "name": "stderr",
          "text": [
            "<ipython-input-21-49d54e7f5a0b>:21: DeprecationWarning: scipy.interp is deprecated and will be removed in SciPy 2.0.0, use numpy.interp instead\n",
            "  tprs.append(interp(mean_fpr, fpr, tpr))\n"
          ]
        },
        {
          "output_type": "stream",
          "name": "stdout",
          "text": [
            "0.9452278607397131\n"
          ]
        },
        {
          "output_type": "stream",
          "name": "stderr",
          "text": [
            "<ipython-input-21-49d54e7f5a0b>:21: DeprecationWarning: scipy.interp is deprecated and will be removed in SciPy 2.0.0, use numpy.interp instead\n",
            "  tprs.append(interp(mean_fpr, fpr, tpr))\n"
          ]
        },
        {
          "output_type": "stream",
          "name": "stdout",
          "text": [
            "0.9418517906103032\n"
          ]
        },
        {
          "output_type": "stream",
          "name": "stderr",
          "text": [
            "<ipython-input-21-49d54e7f5a0b>:21: DeprecationWarning: scipy.interp is deprecated and will be removed in SciPy 2.0.0, use numpy.interp instead\n",
            "  tprs.append(interp(mean_fpr, fpr, tpr))\n"
          ]
        },
        {
          "output_type": "stream",
          "name": "stdout",
          "text": [
            "0.9440681675602414\n"
          ]
        },
        {
          "output_type": "stream",
          "name": "stderr",
          "text": [
            "<ipython-input-21-49d54e7f5a0b>:21: DeprecationWarning: scipy.interp is deprecated and will be removed in SciPy 2.0.0, use numpy.interp instead\n",
            "  tprs.append(interp(mean_fpr, fpr, tpr))\n"
          ]
        },
        {
          "output_type": "stream",
          "name": "stdout",
          "text": [
            "0.9455608231494973\n"
          ]
        },
        {
          "output_type": "stream",
          "name": "stderr",
          "text": [
            "<ipython-input-21-49d54e7f5a0b>:21: DeprecationWarning: scipy.interp is deprecated and will be removed in SciPy 2.0.0, use numpy.interp instead\n",
            "  tprs.append(interp(mean_fpr, fpr, tpr))\n"
          ]
        },
        {
          "output_type": "stream",
          "name": "stdout",
          "text": [
            "0.9453280111210406\n"
          ]
        },
        {
          "output_type": "stream",
          "name": "stderr",
          "text": [
            "<ipython-input-21-49d54e7f5a0b>:21: DeprecationWarning: scipy.interp is deprecated and will be removed in SciPy 2.0.0, use numpy.interp instead\n",
            "  tprs.append(interp(mean_fpr, fpr, tpr))\n"
          ]
        },
        {
          "output_type": "stream",
          "name": "stdout",
          "text": [
            "0.943797147297283\n"
          ]
        },
        {
          "output_type": "stream",
          "name": "stderr",
          "text": [
            "<ipython-input-21-49d54e7f5a0b>:21: DeprecationWarning: scipy.interp is deprecated and will be removed in SciPy 2.0.0, use numpy.interp instead\n",
            "  tprs.append(interp(mean_fpr, fpr, tpr))\n"
          ]
        },
        {
          "output_type": "stream",
          "name": "stdout",
          "text": [
            "0.9449680648521627\n"
          ]
        },
        {
          "output_type": "stream",
          "name": "stderr",
          "text": [
            "<ipython-input-21-49d54e7f5a0b>:21: DeprecationWarning: scipy.interp is deprecated and will be removed in SciPy 2.0.0, use numpy.interp instead\n",
            "  tprs.append(interp(mean_fpr, fpr, tpr))\n"
          ]
        },
        {
          "output_type": "stream",
          "name": "stdout",
          "text": [
            "0.9450774101273182\n"
          ]
        },
        {
          "output_type": "stream",
          "name": "stderr",
          "text": [
            "<ipython-input-21-49d54e7f5a0b>:21: DeprecationWarning: scipy.interp is deprecated and will be removed in SciPy 2.0.0, use numpy.interp instead\n",
            "  tprs.append(interp(mean_fpr, fpr, tpr))\n"
          ]
        },
        {
          "output_type": "stream",
          "name": "stdout",
          "text": [
            "0.9449064912810735\n",
            "0.946763117969105\n"
          ]
        },
        {
          "output_type": "stream",
          "name": "stderr",
          "text": [
            "<ipython-input-21-49d54e7f5a0b>:21: DeprecationWarning: scipy.interp is deprecated and will be removed in SciPy 2.0.0, use numpy.interp instead\n",
            "  tprs.append(interp(mean_fpr, fpr, tpr))\n"
          ]
        }
      ]
    },
    {
      "cell_type": "code",
      "source": [
        "for model in model_list_rf:\n",
        "    if(np.greater(model[\"roc_auc\"], best_auc_rf)):\n",
        "        best_auc_rf = model[\"roc_auc\"]\n",
        "        best_model_rf = model\n",
        "\n",
        "print(\"best auc is \" , best_model_rf[\"roc_auc\"])\n",
        "print(\"ROC curve for validation set for random forest\")\n",
        "plt.plot(best_model_rf[\"fpr\"],\n",
        "          best_model_rf[\"tpr\"], best_model_rf[\"lw\"], best_model_rf[\"alpha\"],\n",
        "          label='ROC fold %d (AUC = %0.2f)' % (0, best_model_rf[\"roc_auc\"]))\n",
        "\n",
        "best_model_rf[\"model\"]"
      ],
      "metadata": {
        "colab": {
          "base_uri": "https://localhost:8080/",
          "height": 522
        },
        "id": "f5_q2ha4ewD6",
        "outputId": "4b6d9568-eaa5-4d0f-ecef-97f4b5c9ec2b"
      },
      "execution_count": null,
      "outputs": [
        {
          "output_type": "stream",
          "name": "stdout",
          "text": [
            "best auc is  0.946763117969105\n",
            "ROC curve for validation set for random forest\n"
          ]
        },
        {
          "output_type": "execute_result",
          "data": {
            "text/plain": [
              "RandomForestClassifier(random_state=RandomState(MT19937) at 0x7E1855B38D40)"
            ],
            "text/html": [
              "<style>#sk-container-id-2 {color: black;background-color: white;}#sk-container-id-2 pre{padding: 0;}#sk-container-id-2 div.sk-toggleable {background-color: white;}#sk-container-id-2 label.sk-toggleable__label {cursor: pointer;display: block;width: 100%;margin-bottom: 0;padding: 0.3em;box-sizing: border-box;text-align: center;}#sk-container-id-2 label.sk-toggleable__label-arrow:before {content: \"▸\";float: left;margin-right: 0.25em;color: #696969;}#sk-container-id-2 label.sk-toggleable__label-arrow:hover:before {color: black;}#sk-container-id-2 div.sk-estimator:hover label.sk-toggleable__label-arrow:before {color: black;}#sk-container-id-2 div.sk-toggleable__content {max-height: 0;max-width: 0;overflow: hidden;text-align: left;background-color: #f0f8ff;}#sk-container-id-2 div.sk-toggleable__content pre {margin: 0.2em;color: black;border-radius: 0.25em;background-color: #f0f8ff;}#sk-container-id-2 input.sk-toggleable__control:checked~div.sk-toggleable__content {max-height: 200px;max-width: 100%;overflow: auto;}#sk-container-id-2 input.sk-toggleable__control:checked~label.sk-toggleable__label-arrow:before {content: \"▾\";}#sk-container-id-2 div.sk-estimator input.sk-toggleable__control:checked~label.sk-toggleable__label {background-color: #d4ebff;}#sk-container-id-2 div.sk-label input.sk-toggleable__control:checked~label.sk-toggleable__label {background-color: #d4ebff;}#sk-container-id-2 input.sk-hidden--visually {border: 0;clip: rect(1px 1px 1px 1px);clip: rect(1px, 1px, 1px, 1px);height: 1px;margin: -1px;overflow: hidden;padding: 0;position: absolute;width: 1px;}#sk-container-id-2 div.sk-estimator {font-family: monospace;background-color: #f0f8ff;border: 1px dotted black;border-radius: 0.25em;box-sizing: border-box;margin-bottom: 0.5em;}#sk-container-id-2 div.sk-estimator:hover {background-color: #d4ebff;}#sk-container-id-2 div.sk-parallel-item::after {content: \"\";width: 100%;border-bottom: 1px solid gray;flex-grow: 1;}#sk-container-id-2 div.sk-label:hover label.sk-toggleable__label {background-color: #d4ebff;}#sk-container-id-2 div.sk-serial::before {content: \"\";position: absolute;border-left: 1px solid gray;box-sizing: border-box;top: 0;bottom: 0;left: 50%;z-index: 0;}#sk-container-id-2 div.sk-serial {display: flex;flex-direction: column;align-items: center;background-color: white;padding-right: 0.2em;padding-left: 0.2em;position: relative;}#sk-container-id-2 div.sk-item {position: relative;z-index: 1;}#sk-container-id-2 div.sk-parallel {display: flex;align-items: stretch;justify-content: center;background-color: white;position: relative;}#sk-container-id-2 div.sk-item::before, #sk-container-id-2 div.sk-parallel-item::before {content: \"\";position: absolute;border-left: 1px solid gray;box-sizing: border-box;top: 0;bottom: 0;left: 50%;z-index: -1;}#sk-container-id-2 div.sk-parallel-item {display: flex;flex-direction: column;z-index: 1;position: relative;background-color: white;}#sk-container-id-2 div.sk-parallel-item:first-child::after {align-self: flex-end;width: 50%;}#sk-container-id-2 div.sk-parallel-item:last-child::after {align-self: flex-start;width: 50%;}#sk-container-id-2 div.sk-parallel-item:only-child::after {width: 0;}#sk-container-id-2 div.sk-dashed-wrapped {border: 1px dashed gray;margin: 0 0.4em 0.5em 0.4em;box-sizing: border-box;padding-bottom: 0.4em;background-color: white;}#sk-container-id-2 div.sk-label label {font-family: monospace;font-weight: bold;display: inline-block;line-height: 1.2em;}#sk-container-id-2 div.sk-label-container {text-align: center;}#sk-container-id-2 div.sk-container {/* jupyter's `normalize.less` sets `[hidden] { display: none; }` but bootstrap.min.css set `[hidden] { display: none !important; }` so we also need the `!important` here to be able to override the default hidden behavior on the sphinx rendered scikit-learn.org. See: https://github.com/scikit-learn/scikit-learn/issues/21755 */display: inline-block !important;position: relative;}#sk-container-id-2 div.sk-text-repr-fallback {display: none;}</style><div id=\"sk-container-id-2\" class=\"sk-top-container\"><div class=\"sk-text-repr-fallback\"><pre>RandomForestClassifier(random_state=RandomState(MT19937) at 0x7E1855B38D40)</pre><b>In a Jupyter environment, please rerun this cell to show the HTML representation or trust the notebook. <br />On GitHub, the HTML representation is unable to render, please try loading this page with nbviewer.org.</b></div><div class=\"sk-container\" hidden><div class=\"sk-item\"><div class=\"sk-estimator sk-toggleable\"><input class=\"sk-toggleable__control sk-hidden--visually\" id=\"sk-estimator-id-2\" type=\"checkbox\" checked><label for=\"sk-estimator-id-2\" class=\"sk-toggleable__label sk-toggleable__label-arrow\">RandomForestClassifier</label><div class=\"sk-toggleable__content\"><pre>RandomForestClassifier(random_state=RandomState(MT19937) at 0x7E1855B38D40)</pre></div></div></div></div></div>"
            ]
          },
          "metadata": {},
          "execution_count": 34
        },
        {
          "output_type": "display_data",
          "data": {
            "text/plain": [
              "<Figure size 640x480 with 1 Axes>"
            ],
            "image/png": "[encoded data removed]"
          },
          "metadata": {}
        }
      ]
    },
    {
      "cell_type": "code",
      "source": [
        "#Testing best model for Random Forest\n",
        "test_rf = get_roc_test(best_model_rf[\"model\"], dfTest)\n",
        "print(\"best model's auc on test set for random forest is \" , test_rf[\"roc_auc\"])\n",
        "# #print(dTrain.head())\n",
        "print(\"ROC curve for test set for random forest\")\n",
        "plt.plot(test_rf[\"fpr\"],\n",
        "          test_rf[\"tpr\"], test_rf[\"lw\"], test_rf[\"alpha\"],\n",
        "          label='ROC fold %d (AUC = %0.2f)' % (0, test_rf[\"roc_auc\"]))\n",
        "plt.plot([0, 1], [0, 1],'r--')\n",
        "plt.xlim([0.0, 1.0])\n",
        "plt.ylim([0.0, 1.05])\n",
        "plt.xlabel('False Positive Rate')\n",
        "plt.ylabel('True Positive Rate')\n",
        "plt.title('Receiver operating characteristic')\n",
        "plt.legend(loc=\"lower right\")\n",
        "plt.savefig('Log_ROC')\n",
        "plt.show()"
      ],
      "metadata": {
        "colab": {
          "base_uri": "https://localhost:8080/",
          "height": 507
        },
        "id": "kJmH4HGxe10N",
        "outputId": "e3bf7c39-012f-4372-ad6e-61f0d912138f"
      },
      "execution_count": null,
      "outputs": [
        {
          "output_type": "stream",
          "name": "stdout",
          "text": [
            "best model's auc on test set for random forest is  0.9539546109923449\n",
            "ROC curve for test set for random forest\n"
          ]
        },
        {
          "output_type": "display_data",
          "data": {
            "text/plain": [
              "<Figure size 640x480 with 1 Axes>"
            ],
            "image/png": "[encoded data removed]"
          },
          "metadata": {}
        }
      ]
    },
    {
      "cell_type": "code",
      "source": [
        "#displaying accuracy of random forest\n",
        "print(\"Random Forest Accuracy\")\n",
        "display_accuracy(best_model_rf[\"model\"], dfTest)"
      ],
      "metadata": {
        "colab": {
          "base_uri": "https://localhost:8080/"
        },
        "id": "3H_Uumgfe7Qt",
        "outputId": "025e3104-f8fb-4f6f-e130-c72d2b7c12d3"
      },
      "execution_count": null,
      "outputs": [
        {
          "output_type": "stream",
          "name": "stdout",
          "text": [
            "Random Forest Accuracy\n",
            "Model's on test set: 0.93\n"
          ]
        }
      ]
    },
    {
      "cell_type": "code",
      "source": [
        "#printing model's confusion matrix for random forest\n",
        "print(\"Random Forest Confusion Matrix\")\n",
        "confsn_matrx = display_confusion_matrix(best_model_rf[\"model\"], dfTest)\n",
        "correct_predictions = confsn_matrx[0][0] + confsn_matrx[1][1]\n",
        "incorrect_predictions = confsn_matrx[0][1] + confsn_matrx[1][0]\n",
        "print(\"Number of correct predictions: \", correct_predictions)\n",
        "print(\"Number of incorrect predictions: \", incorrect_predictions)"
      ],
      "metadata": {
        "colab": {
          "base_uri": "https://localhost:8080/"
        },
        "id": "etjY-ggtfAF_",
        "outputId": "6d0a1ec5-6d87-44aa-f736-9a664c98df25"
      },
      "execution_count": null,
      "outputs": [
        {
          "output_type": "stream",
          "name": "stdout",
          "text": [
            "Random Forest Confusion Matrix\n",
            "[[9272637  696616]\n",
            " [   3873   26874]]\n",
            "Number of correct predictions:  9299511\n",
            "Number of incorrect predictions:  700489\n"
          ]
        }
      ]
    },
    {
      "cell_type": "code",
      "source": [
        "display_classification_report(best_model_rf[\"model\"], dfTest)"
      ],
      "metadata": {
        "colab": {
          "base_uri": "https://localhost:8080/"
        },
        "id": "EGJLkh1gfFhv",
        "outputId": "b465037f-d9c3-42a7-f02b-edf4571aedcb"
      },
      "execution_count": null,
      "outputs": [
        {
          "output_type": "stream",
          "name": "stdout",
          "text": [
            "              precision    recall  f1-score   support\n",
            "\n",
            "           0       1.00      0.93      0.96   9969253\n",
            "           1       0.04      0.87      0.07     30747\n",
            "\n",
            "    accuracy                           0.93  10000000\n",
            "   macro avg       0.52      0.90      0.52  10000000\n",
            "weighted avg       1.00      0.93      0.96  10000000\n",
            "\n"
          ]
        }
      ]
    },
    {
      "cell_type": "code",
      "source": [
        "#building model for XGBoost\n",
        "dTrain = pd.DataFrame()\n",
        "\n",
        "dCV = pd.DataFrame()\n",
        "\n",
        "best_model_xgb = {}\n",
        "\n",
        "model_list_xgb = []\n",
        "\n",
        "best_auc_xgb = np.float64(0)"
      ],
      "metadata": {
        "id": "StFtrzbib1rO"
      },
      "execution_count": null,
      "outputs": []
    },
    {
      "cell_type": "code",
      "source": [
        "from xgboost import XGBClassifier\n",
        "# Building XGBoost model\n",
        "for chunk in dfTrainBal:\n",
        "    random_int = random.randint(1, 10)\n",
        "    random_state = np.random.RandomState(random_int)\n",
        "\n",
        "    # Building data for cross-validation\n",
        "    dTrain, dCV = model_tts(chunk, test_size=split_size, random_state=random_state, shuffle=True)\n",
        "\n",
        "    # Get X and y\n",
        "    yTrain = dTrain['is_attributed']\n",
        "    xTrain = dTrain.drop('is_attributed', axis=1)\n",
        "    yCV = dCV['is_attributed']\n",
        "    xCV = dCV.drop('is_attributed', axis=1)\n",
        "\n",
        "    # XGBoost classifier\n",
        "    clfXGB = XGBClassifier(n_estimators=100, random_state=random_state)\n",
        "    results_xgb = draw_roc(clfXGB, chunk)\n",
        "    model_list_xgb.append(results_xgb)\n",
        "    print(results_xgb[\"roc_auc\"])\n",
        "\n"
      ],
      "metadata": {
        "colab": {
          "base_uri": "https://localhost:8080/"
        },
        "id": "U9yaaH0VcfD3",
        "outputId": "b63f07bc-ad99-41ac-a1b6-81b7716831b9"
      },
      "execution_count": null,
      "outputs": [
        {
          "output_type": "stream",
          "name": "stderr",
          "text": [
            "<ipython-input-22-49d54e7f5a0b>:21: DeprecationWarning: scipy.interp is deprecated and will be removed in SciPy 2.0.0, use numpy.interp instead\n",
            "  tprs.append(interp(mean_fpr, fpr, tpr))\n",
            "<ipython-input-22-49d54e7f5a0b>:21: DeprecationWarning: scipy.interp is deprecated and will be removed in SciPy 2.0.0, use numpy.interp instead\n",
            "  tprs.append(interp(mean_fpr, fpr, tpr))\n",
            "<ipython-input-22-49d54e7f5a0b>:21: DeprecationWarning: scipy.interp is deprecated and will be removed in SciPy 2.0.0, use numpy.interp instead\n",
            "  tprs.append(interp(mean_fpr, fpr, tpr))\n"
          ]
        },
        {
          "output_type": "stream",
          "name": "stdout",
          "text": [
            "0.9253140498437525\n",
            "0.9412252427184465\n",
            "0.9296194174757282\n"
          ]
        },
        {
          "output_type": "stream",
          "name": "stderr",
          "text": [
            "<ipython-input-22-49d54e7f5a0b>:21: DeprecationWarning: scipy.interp is deprecated and will be removed in SciPy 2.0.0, use numpy.interp instead\n",
            "  tprs.append(interp(mean_fpr, fpr, tpr))\n",
            "<ipython-input-22-49d54e7f5a0b>:21: DeprecationWarning: scipy.interp is deprecated and will be removed in SciPy 2.0.0, use numpy.interp instead\n",
            "  tprs.append(interp(mean_fpr, fpr, tpr))\n",
            "<ipython-input-22-49d54e7f5a0b>:21: DeprecationWarning: scipy.interp is deprecated and will be removed in SciPy 2.0.0, use numpy.interp instead\n",
            "  tprs.append(interp(mean_fpr, fpr, tpr))\n"
          ]
        },
        {
          "output_type": "stream",
          "name": "stdout",
          "text": [
            "0.931120107647315\n",
            "0.9303844660194174\n",
            "0.922844331404393\n"
          ]
        },
        {
          "output_type": "stream",
          "name": "stderr",
          "text": [
            "<ipython-input-22-49d54e7f5a0b>:21: DeprecationWarning: scipy.interp is deprecated and will be removed in SciPy 2.0.0, use numpy.interp instead\n",
            "  tprs.append(interp(mean_fpr, fpr, tpr))\n",
            "<ipython-input-22-49d54e7f5a0b>:21: DeprecationWarning: scipy.interp is deprecated and will be removed in SciPy 2.0.0, use numpy.interp instead\n",
            "  tprs.append(interp(mean_fpr, fpr, tpr))\n",
            "<ipython-input-22-49d54e7f5a0b>:21: DeprecationWarning: scipy.interp is deprecated and will be removed in SciPy 2.0.0, use numpy.interp instead\n",
            "  tprs.append(interp(mean_fpr, fpr, tpr))\n"
          ]
        },
        {
          "output_type": "stream",
          "name": "stdout",
          "text": [
            "0.9254644991335567\n",
            "0.9253603267791135\n",
            "0.9221067961165049\n",
            "0.9289495145631068\n"
          ]
        },
        {
          "output_type": "stream",
          "name": "stderr",
          "text": [
            "<ipython-input-22-49d54e7f5a0b>:21: DeprecationWarning: scipy.interp is deprecated and will be removed in SciPy 2.0.0, use numpy.interp instead\n",
            "  tprs.append(interp(mean_fpr, fpr, tpr))\n"
          ]
        }
      ]
    },
    {
      "cell_type": "code",
      "source": [
        "# Selecting the best model based on AUC\n",
        "for model in model_list_xgb:\n",
        "    if np.greater(model[\"roc_auc\"], best_auc_xgb):\n",
        "        best_auc_xgb = model[\"roc_auc\"]\n",
        "        best_model_xgb = model\n",
        "\n",
        "print(\"Best AUC is\", best_model_xgb[\"roc_auc\"])\n",
        "print(\"ROC curve for validation set for XGBoost\")\n",
        "plt.plot(best_model_xgb[\"fpr\"],\n",
        "         best_model_xgb[\"tpr\"], best_model_xgb[\"lw\"], best_model_xgb[\"alpha\"],\n",
        "         label='ROC fold %d (AUC = %0.2f)' % (0, best_model_xgb[\"roc_auc\"]))\n",
        "\n",
        "best_model_xgb[\"model\"]"
      ],
      "metadata": {
        "colab": {
          "base_uri": "https://localhost:8080/",
          "height": 696
        },
        "id": "EROv0pHFfmUH",
        "outputId": "61474217-b53f-444c-e9f9-3e531816a812"
      },
      "execution_count": null,
      "outputs": [
        {
          "output_type": "stream",
          "name": "stdout",
          "text": [
            "Best AUC is 0.9412252427184465\n",
            "ROC curve for validation set for XGBoost\n"
          ]
        },
        {
          "output_type": "execute_result",
          "data": {
            "text/plain": [
              "XGBClassifier(base_score=None, booster=None, callbacks=None,\n",
              "              colsample_bylevel=None, colsample_bynode=None,\n",
              "              colsample_bytree=None, device=None, early_stopping_rounds=None,\n",
              "              enable_categorical=False, eval_metric=None, feature_types=None,\n",
              "              gamma=None, grow_policy=None, importance_type=None,\n",
              "              interaction_constraints=None, learning_rate=None, max_bin=None,\n",
              "              max_cat_threshold=None, max_cat_to_onehot=None,\n",
              "              max_delta_step=None, max_depth=None, max_leaves=None,\n",
              "              min_child_weight=None, missing=nan, monotone_constraints=None,\n",
              "              multi_strategy=None, n_estimators=100, n_jobs=None,\n",
              "              num_parallel_tree=None, random_state=2128391943, ...)"
            ],
            "text/html": [
              "<style>#sk-container-id-3 {color: black;background-color: white;}#sk-container-id-3 pre{padding: 0;}#sk-container-id-3 div.sk-toggleable {background-color: white;}#sk-container-id-3 label.sk-toggleable__label {cursor: pointer;display: block;width: 100%;margin-bottom: 0;padding: 0.3em;box-sizing: border-box;text-align: center;}#sk-container-id-3 label.sk-toggleable__label-arrow:before {content: \"▸\";float: left;margin-right: 0.25em;color: #696969;}#sk-container-id-3 label.sk-toggleable__label-arrow:hover:before {color: black;}#sk-container-id-3 div.sk-estimator:hover label.sk-toggleable__label-arrow:before {color: black;}#sk-container-id-3 div.sk-toggleable__content {max-height: 0;max-width: 0;overflow: hidden;text-align: left;background-color: #f0f8ff;}#sk-container-id-3 div.sk-toggleable__content pre {margin: 0.2em;color: black;border-radius: 0.25em;background-color: #f0f8ff;}#sk-container-id-3 input.sk-toggleable__control:checked~div.sk-toggleable__content {max-height: 200px;max-width: 100%;overflow: auto;}#sk-container-id-3 input.sk-toggleable__control:checked~label.sk-toggleable__label-arrow:before {content: \"▾\";}#sk-container-id-3 div.sk-estimator input.sk-toggleable__control:checked~label.sk-toggleable__label {background-color: #d4ebff;}#sk-container-id-3 div.sk-label input.sk-toggleable__control:checked~label.sk-toggleable__label {background-color: #d4ebff;}#sk-container-id-3 input.sk-hidden--visually {border: 0;clip: rect(1px 1px 1px 1px);clip: rect(1px, 1px, 1px, 1px);height: 1px;margin: -1px;overflow: hidden;padding: 0;position: absolute;width: 1px;}#sk-container-id-3 div.sk-estimator {font-family: monospace;background-color: #f0f8ff;border: 1px dotted black;border-radius: 0.25em;box-sizing: border-box;margin-bottom: 0.5em;}#sk-container-id-3 div.sk-estimator:hover {background-color: #d4ebff;}#sk-container-id-3 div.sk-parallel-item::after {content: \"\";width: 100%;border-bottom: 1px solid gray;flex-grow: 1;}#sk-container-id-3 div.sk-label:hover label.sk-toggleable__label {background-color: #d4ebff;}#sk-container-id-3 div.sk-serial::before {content: \"\";position: absolute;border-left: 1px solid gray;box-sizing: border-box;top: 0;bottom: 0;left: 50%;z-index: 0;}#sk-container-id-3 div.sk-serial {display: flex;flex-direction: column;align-items: center;background-color: white;padding-right: 0.2em;padding-left: 0.2em;position: relative;}#sk-container-id-3 div.sk-item {position: relative;z-index: 1;}#sk-container-id-3 div.sk-parallel {display: flex;align-items: stretch;justify-content: center;background-color: white;position: relative;}#sk-container-id-3 div.sk-item::before, #sk-container-id-3 div.sk-parallel-item::before {content: \"\";position: absolute;border-left: 1px solid gray;box-sizing: border-box;top: 0;bottom: 0;left: 50%;z-index: -1;}#sk-container-id-3 div.sk-parallel-item {display: flex;flex-direction: column;z-index: 1;position: relative;background-color: white;}#sk-container-id-3 div.sk-parallel-item:first-child::after {align-self: flex-end;width: 50%;}#sk-container-id-3 div.sk-parallel-item:last-child::after {align-self: flex-start;width: 50%;}#sk-container-id-3 div.sk-parallel-item:only-child::after {width: 0;}#sk-container-id-3 div.sk-dashed-wrapped {border: 1px dashed gray;margin: 0 0.4em 0.5em 0.4em;box-sizing: border-box;padding-bottom: 0.4em;background-color: white;}#sk-container-id-3 div.sk-label label {font-family: monospace;font-weight: bold;display: inline-block;line-height: 1.2em;}#sk-container-id-3 div.sk-label-container {text-align: center;}#sk-container-id-3 div.sk-container {/* jupyter's `normalize.less` sets `[hidden] { display: none; }` but bootstrap.min.css set `[hidden] { display: none !important; }` so we also need the `!important` here to be able to override the default hidden behavior on the sphinx rendered scikit-learn.org. See: https://github.com/scikit-learn/scikit-learn/issues/21755 */display: inline-block !important;position: relative;}#sk-container-id-3 div.sk-text-repr-fallback {display: none;}</style><div id=\"sk-container-id-3\" class=\"sk-top-container\"><div class=\"sk-text-repr-fallback\"><pre>XGBClassifier(base_score=None, booster=None, callbacks=None,\n",
              "              colsample_bylevel=None, colsample_bynode=None,\n",
              "              colsample_bytree=None, device=None, early_stopping_rounds=None,\n",
              "              enable_categorical=False, eval_metric=None, feature_types=None,\n",
              "              gamma=None, grow_policy=None, importance_type=None,\n",
              "              interaction_constraints=None, learning_rate=None, max_bin=None,\n",
              "              max_cat_threshold=None, max_cat_to_onehot=None,\n",
              "              max_delta_step=None, max_depth=None, max_leaves=None,\n",
              "              min_child_weight=None, missing=nan, monotone_constraints=None,\n",
              "              multi_strategy=None, n_estimators=100, n_jobs=None,\n",
              "              num_parallel_tree=None, random_state=186896550, ...)</pre><b>In a Jupyter environment, please rerun this cell to show the HTML representation or trust the notebook. <br />On GitHub, the HTML representation is unable to render, please try loading this page with nbviewer.org.</b></div><div class=\"sk-container\" hidden><div class=\"sk-item\"><div class=\"sk-estimator sk-toggleable\"><input class=\"sk-toggleable__control sk-hidden--visually\" id=\"sk-estimator-id-3\" type=\"checkbox\" checked><label for=\"sk-estimator-id-3\" class=\"sk-toggleable__label sk-toggleable__label-arrow\">XGBClassifier</label><div class=\"sk-toggleable__content\"><pre>XGBClassifier(base_score=None, booster=None, callbacks=None,\n",
              "              colsample_bylevel=None, colsample_bynode=None,\n",
              "              colsample_bytree=None, device=None, early_stopping_rounds=None,\n",
              "              enable_categorical=False, eval_metric=None, feature_types=None,\n",
              "              gamma=None, grow_policy=None, importance_type=None,\n",
              "              interaction_constraints=None, learning_rate=None, max_bin=None,\n",
              "              max_cat_threshold=None, max_cat_to_onehot=None,\n",
              "              max_delta_step=None, max_depth=None, max_leaves=None,\n",
              "              min_child_weight=None, missing=nan, monotone_constraints=None,\n",
              "              multi_strategy=None, n_estimators=100, n_jobs=None,\n",
              "              num_parallel_tree=None, random_state=945538157, ...)</pre></div></div></div></div></div>"
            ]
          },
          "metadata": {},
          "execution_count": 42
        },
        {
          "output_type": "display_data",
          "data": {
            "text/plain": [
              "<Figure size 640x480 with 1 Axes>"
            ],
            "image/png": "[encoded data removed]"
          },
          "metadata": {}
        }
      ]
    },
    {
      "cell_type": "code",
      "source": [
        "# Testing the best model for XGBoost\n",
        "test_xgb = get_roc_test(best_model_xgb[\"model\"], dfTest)\n",
        "print(\"Best model's AUC on test set for XGBoost is\", test_xgb[\"roc_auc\"])"
      ],
      "metadata": {
        "colab": {
          "base_uri": "https://localhost:8080/"
        },
        "id": "DRDvcy_wfx-Z",
        "outputId": "a5cc1754-ae5f-4582-8f91-69afd3fc3b6d"
      },
      "execution_count": null,
      "outputs": [
        {
          "output_type": "stream",
          "name": "stdout",
          "text": [
            "Best model's AUC on test set for XGBoost is 0.9367450926665831\n"
          ]
        }
      ]
    },
    {
      "cell_type": "code",
      "source": [
        "# ROC curve for test set for XGBoost\n",
        "print(\"ROC curve for test set for XGBoost\")\n",
        "plt.plot(test_xgb[\"fpr\"],\n",
        "         test_xgb[\"tpr\"], test_xgb[\"lw\"], test_xgb[\"alpha\"],\n",
        "         label='ROC fold %d (AUC = %0.2f)' % (0, test_xgb[\"roc_auc\"]))\n",
        "plt.plot([0, 1], [0, 1], 'r--')\n",
        "plt.xlim([0.0, 1.0])\n",
        "plt.ylim([0.0, 1.05])\n",
        "plt.xlabel('False Positive Rate')\n",
        "plt.ylabel('True Positive Rate')\n",
        "plt.title('Receiver operating characteristic')\n",
        "plt.legend(loc=\"lower right\")\n",
        "plt.savefig('XGBoost_ROC')\n",
        "plt.show()"
      ],
      "metadata": {
        "colab": {
          "base_uri": "https://localhost:8080/",
          "height": 489
        },
        "id": "_20aIOqCf1dW",
        "outputId": "08ddf24c-e868-4986-f565-063ef3172ecc"
      },
      "execution_count": null,
      "outputs": [
        {
          "output_type": "stream",
          "name": "stdout",
          "text": [
            "ROC curve for test set for XGBoost\n"
          ]
        },
        {
          "output_type": "display_data",
          "data": {
            "text/plain": [
              "<Figure size 640x480 with 1 Axes>"
            ],
            "image/png": "[encoded data removed]"
          },
          "metadata": {}
        }
      ]
    },
    {
      "cell_type": "code",
      "source": [
        "# Displaying accuracy of XGBoost\n",
        "print(\"XGBoost Accuracy\")\n",
        "display_accuracy(best_model_xgb[\"model\"], dfTest)"
      ],
      "metadata": {
        "colab": {
          "base_uri": "https://localhost:8080/"
        },
        "id": "JLgo-Bl1f5Vl",
        "outputId": "ddb832d7-ca58-4b69-8460-7d50f89d3049"
      },
      "execution_count": null,
      "outputs": [
        {
          "output_type": "stream",
          "name": "stdout",
          "text": [
            "XGBoost Accuracy\n",
            "Model's on test set: 0.89\n"
          ]
        }
      ]
    },
    {
      "cell_type": "code",
      "source": [
        "# Printing model's confusion matrix for XGBoost\n",
        "print(\"XGBoost Confusion Matrix\")\n",
        "confusion_matrix_xgb = display_confusion_matrix(best_model_xgb[\"model\"], dfTest)\n",
        "correct_predictions_xgb = confusion_matrix_xgb[0][0] + confusion_matrix_xgb[1][1]\n",
        "incorrect_predictions_xgb = confusion_matrix_xgb[0][1] + confusion_matrix_xgb[1][0]\n",
        "print(\"Number of correct predictions: \", correct_predictions_xgb)\n",
        "print(\"Number of incorrect predictions: \", incorrect_predictions_xgb)"
      ],
      "metadata": {
        "colab": {
          "base_uri": "https://localhost:8080/"
        },
        "id": "mALJum-Kf_rI",
        "outputId": "ab43ed6a-042c-4a40-f88f-b4e9de0a1563"
      },
      "execution_count": null,
      "outputs": [
        {
          "output_type": "stream",
          "name": "stdout",
          "text": [
            "XGBoost Confusion Matrix\n",
            "[[887063 111242]\n",
            " [   250   1445]]\n",
            "Number of correct predictions:  888508\n",
            "Number of incorrect predictions:  111492\n"
          ]
        }
      ]
    },
    {
      "cell_type": "code",
      "source": [
        "display_classification_report(best_model_xgb[\"model\"], dfTest)"
      ],
      "metadata": {
        "colab": {
          "base_uri": "https://localhost:8080/"
        },
        "id": "vrcybW-7gKjr",
        "outputId": "3ef17417-e25c-401b-91c7-6c0fcf4d4e65"
      },
      "execution_count": null,
      "outputs": [
        {
          "output_type": "stream",
          "name": "stdout",
          "text": [
            "              precision    recall  f1-score   support\n",
            "\n",
            "           0       1.00      0.89      0.94    998305\n",
            "           1       0.01      0.85      0.03      1695\n",
            "\n",
            "    accuracy                           0.89   1000000\n",
            "   macro avg       0.51      0.87      0.48   1000000\n",
            "weighted avg       1.00      0.89      0.94   1000000\n",
            "\n"
          ]
        }
      ]
    },
    {
      "cell_type": "code",
      "source": [
        "from sklearn.svm import SVC\n",
        "# Assuming dfTrainBal is your training dataset and dfTest is your testing dataset\n",
        "\n",
        "dTrain = pd.DataFrame()\n",
        "dCV = pd.DataFrame()\n",
        "split_size = 0.2\n",
        "best_model_svm = {}\n",
        "model_list_svm = []\n",
        "best_auc_svm = np.float64(0)\n"
      ],
      "metadata": {
        "id": "4dE86qpEgjxM"
      },
      "execution_count": null,
      "outputs": []
    },
    {
      "cell_type": "code",
      "source": [
        "# Building SVM model\n",
        "for chunk in dfTrainBal:\n",
        "    random_int = random.randint(1, 10)\n",
        "    random_state = np.random.RandomState(random_int)\n",
        "\n",
        "    # Building data for cross-validation\n",
        "    dTrain, dCV = model_tts(chunk, test_size=split_size, random_state=random_state, shuffle=True)\n",
        "\n",
        "    # Get X and y\n",
        "    yTrain = dTrain['is_attributed']\n",
        "    xTrain = dTrain.drop('is_attributed', axis=1)\n",
        "    yCV = dCV['is_attributed']\n",
        "    xCV = dCV.drop('is_attributed', axis=1)\n",
        "\n",
        "    # SVM classifier\n",
        "    clfSVM = SVC(probability=True, random_state=random_state)\n",
        "    results_svm = draw_roc(clfSVM, chunk)\n",
        "    model_list_svm.append(results_svm)\n",
        "    print(results_svm[\"roc_auc\"])\n"
      ],
      "metadata": {
        "colab": {
          "base_uri": "https://localhost:8080/"
        },
        "id": "NKVgy1A0gu4P",
        "outputId": "534e9b6e-760f-45a6-f33b-345ce1554c0b"
      },
      "execution_count": null,
      "outputs": [
        {
          "output_type": "stream",
          "name": "stderr",
          "text": [
            "<ipython-input-22-49d54e7f5a0b>:21: DeprecationWarning: scipy.interp is deprecated and will be removed in SciPy 2.0.0, use numpy.interp instead\n",
            "  tprs.append(interp(mean_fpr, fpr, tpr))\n"
          ]
        },
        {
          "output_type": "stream",
          "name": "stdout",
          "text": [
            "0.6892660194174758\n"
          ]
        },
        {
          "output_type": "stream",
          "name": "stderr",
          "text": [
            "<ipython-input-22-49d54e7f5a0b>:21: DeprecationWarning: scipy.interp is deprecated and will be removed in SciPy 2.0.0, use numpy.interp instead\n",
            "  tprs.append(interp(mean_fpr, fpr, tpr))\n"
          ]
        },
        {
          "output_type": "stream",
          "name": "stdout",
          "text": [
            "0.6949488004226491\n"
          ]
        },
        {
          "output_type": "stream",
          "name": "stderr",
          "text": [
            "<ipython-input-22-49d54e7f5a0b>:21: DeprecationWarning: scipy.interp is deprecated and will be removed in SciPy 2.0.0, use numpy.interp instead\n",
            "  tprs.append(interp(mean_fpr, fpr, tpr))\n"
          ]
        },
        {
          "output_type": "stream",
          "name": "stdout",
          "text": [
            "0.6751232810652728\n"
          ]
        },
        {
          "output_type": "stream",
          "name": "stderr",
          "text": [
            "<ipython-input-22-49d54e7f5a0b>:21: DeprecationWarning: scipy.interp is deprecated and will be removed in SciPy 2.0.0, use numpy.interp instead\n",
            "  tprs.append(interp(mean_fpr, fpr, tpr))\n"
          ]
        },
        {
          "output_type": "stream",
          "name": "stdout",
          "text": [
            "0.6821741562558269\n"
          ]
        },
        {
          "output_type": "stream",
          "name": "stderr",
          "text": [
            "<ipython-input-22-49d54e7f5a0b>:21: DeprecationWarning: scipy.interp is deprecated and will be removed in SciPy 2.0.0, use numpy.interp instead\n",
            "  tprs.append(interp(mean_fpr, fpr, tpr))\n"
          ]
        },
        {
          "output_type": "stream",
          "name": "stdout",
          "text": [
            "0.6617568135150271\n"
          ]
        },
        {
          "output_type": "stream",
          "name": "stderr",
          "text": [
            "<ipython-input-22-49d54e7f5a0b>:21: DeprecationWarning: scipy.interp is deprecated and will be removed in SciPy 2.0.0, use numpy.interp instead\n",
            "  tprs.append(interp(mean_fpr, fpr, tpr))\n"
          ]
        },
        {
          "output_type": "stream",
          "name": "stdout",
          "text": [
            "0.6639938744733447\n"
          ]
        },
        {
          "output_type": "stream",
          "name": "stderr",
          "text": [
            "<ipython-input-22-49d54e7f5a0b>:21: DeprecationWarning: scipy.interp is deprecated and will be removed in SciPy 2.0.0, use numpy.interp instead\n",
            "  tprs.append(interp(mean_fpr, fpr, tpr))\n"
          ]
        },
        {
          "output_type": "stream",
          "name": "stdout",
          "text": [
            "0.6769833504177927\n"
          ]
        },
        {
          "output_type": "stream",
          "name": "stderr",
          "text": [
            "<ipython-input-22-49d54e7f5a0b>:21: DeprecationWarning: scipy.interp is deprecated and will be removed in SciPy 2.0.0, use numpy.interp instead\n",
            "  tprs.append(interp(mean_fpr, fpr, tpr))\n"
          ]
        },
        {
          "output_type": "stream",
          "name": "stdout",
          "text": [
            "0.6898368932038834\n"
          ]
        },
        {
          "output_type": "stream",
          "name": "stderr",
          "text": [
            "<ipython-input-22-49d54e7f5a0b>:21: DeprecationWarning: scipy.interp is deprecated and will be removed in SciPy 2.0.0, use numpy.interp instead\n",
            "  tprs.append(interp(mean_fpr, fpr, tpr))\n"
          ]
        },
        {
          "output_type": "stream",
          "name": "stdout",
          "text": [
            "0.6659844660194174\n",
            "0.684106765491951\n"
          ]
        },
        {
          "output_type": "stream",
          "name": "stderr",
          "text": [
            "<ipython-input-22-49d54e7f5a0b>:21: DeprecationWarning: scipy.interp is deprecated and will be removed in SciPy 2.0.0, use numpy.interp instead\n",
            "  tprs.append(interp(mean_fpr, fpr, tpr))\n"
          ]
        }
      ]
    },
    {
      "cell_type": "code",
      "source": [
        "# Selecting the best model based on AUC\n",
        "for model in model_list_svm:\n",
        "    if np.greater(model[\"roc_auc\"], best_auc_svm):\n",
        "        best_auc_svm = model[\"roc_auc\"]\n",
        "        best_model_svm = model\n",
        "\n",
        "print(\"Best AUC is\", best_model_svm[\"roc_auc\"])\n",
        "print(\"ROC curve for validation set for SVM\")\n",
        "plt.plot(best_model_svm[\"fpr\"],\n",
        "         best_model_svm[\"tpr\"], best_model_svm[\"lw\"], best_model_svm[\"alpha\"],\n",
        "         label='ROC fold %d (AUC = %0.2f)' % (0, best_model_svm[\"roc_auc\"]))\n",
        "\n",
        "best_model_svm[\"model\"]"
      ],
      "metadata": {
        "colab": {
          "base_uri": "https://localhost:8080/",
          "height": 522
        },
        "id": "RDoLVEn9g09c",
        "outputId": "19eda315-1753-4368-a0f2-3d2f4d12ae26"
      },
      "execution_count": null,
      "outputs": [
        {
          "output_type": "stream",
          "name": "stdout",
          "text": [
            "Best AUC is 0.6949488004226491\n",
            "ROC curve for validation set for SVM\n"
          ]
        },
        {
          "output_type": "execute_result",
          "data": {
            "text/plain": [
              "SVC(probability=True, random_state=RandomState(MT19937) at 0x7E4302909D40)"
            ],
            "text/html": [
              "<style>#sk-container-id-4 {color: black;background-color: white;}#sk-container-id-4 pre{padding: 0;}#sk-container-id-4 div.sk-toggleable {background-color: white;}#sk-container-id-4 label.sk-toggleable__label {cursor: pointer;display: block;width: 100%;margin-bottom: 0;padding: 0.3em;box-sizing: border-box;text-align: center;}#sk-container-id-4 label.sk-toggleable__label-arrow:before {content: \"▸\";float: left;margin-right: 0.25em;color: #696969;}#sk-container-id-4 label.sk-toggleable__label-arrow:hover:before {color: black;}#sk-container-id-4 div.sk-estimator:hover label.sk-toggleable__label-arrow:before {color: black;}#sk-container-id-4 div.sk-toggleable__content {max-height: 0;max-width: 0;overflow: hidden;text-align: left;background-color: #f0f8ff;}#sk-container-id-4 div.sk-toggleable__content pre {margin: 0.2em;color: black;border-radius: 0.25em;background-color: #f0f8ff;}#sk-container-id-4 input.sk-toggleable__control:checked~div.sk-toggleable__content {max-height: 200px;max-width: 100%;overflow: auto;}#sk-container-id-4 input.sk-toggleable__control:checked~label.sk-toggleable__label-arrow:before {content: \"▾\";}#sk-container-id-4 div.sk-estimator input.sk-toggleable__control:checked~label.sk-toggleable__label {background-color: #d4ebff;}#sk-container-id-4 div.sk-label input.sk-toggleable__control:checked~label.sk-toggleable__label {background-color: #d4ebff;}#sk-container-id-4 input.sk-hidden--visually {border: 0;clip: rect(1px 1px 1px 1px);clip: rect(1px, 1px, 1px, 1px);height: 1px;margin: -1px;overflow: hidden;padding: 0;position: absolute;width: 1px;}#sk-container-id-4 div.sk-estimator {font-family: monospace;background-color: #f0f8ff;border: 1px dotted black;border-radius: 0.25em;box-sizing: border-box;margin-bottom: 0.5em;}#sk-container-id-4 div.sk-estimator:hover {background-color: #d4ebff;}#sk-container-id-4 div.sk-parallel-item::after {content: \"\";width: 100%;border-bottom: 1px solid gray;flex-grow: 1;}#sk-container-id-4 div.sk-label:hover label.sk-toggleable__label {background-color: #d4ebff;}#sk-container-id-4 div.sk-serial::before {content: \"\";position: absolute;border-left: 1px solid gray;box-sizing: border-box;top: 0;bottom: 0;left: 50%;z-index: 0;}#sk-container-id-4 div.sk-serial {display: flex;flex-direction: column;align-items: center;background-color: white;padding-right: 0.2em;padding-left: 0.2em;position: relative;}#sk-container-id-4 div.sk-item {position: relative;z-index: 1;}#sk-container-id-4 div.sk-parallel {display: flex;align-items: stretch;justify-content: center;background-color: white;position: relative;}#sk-container-id-4 div.sk-item::before, #sk-container-id-4 div.sk-parallel-item::before {content: \"\";position: absolute;border-left: 1px solid gray;box-sizing: border-box;top: 0;bottom: 0;left: 50%;z-index: -1;}#sk-container-id-4 div.sk-parallel-item {display: flex;flex-direction: column;z-index: 1;position: relative;background-color: white;}#sk-container-id-4 div.sk-parallel-item:first-child::after {align-self: flex-end;width: 50%;}#sk-container-id-4 div.sk-parallel-item:last-child::after {align-self: flex-start;width: 50%;}#sk-container-id-4 div.sk-parallel-item:only-child::after {width: 0;}#sk-container-id-4 div.sk-dashed-wrapped {border: 1px dashed gray;margin: 0 0.4em 0.5em 0.4em;box-sizing: border-box;padding-bottom: 0.4em;background-color: white;}#sk-container-id-4 div.sk-label label {font-family: monospace;font-weight: bold;display: inline-block;line-height: 1.2em;}#sk-container-id-4 div.sk-label-container {text-align: center;}#sk-container-id-4 div.sk-container {/* jupyter's `normalize.less` sets `[hidden] { display: none; }` but bootstrap.min.css set `[hidden] { display: none !important; }` so we also need the `!important` here to be able to override the default hidden behavior on the sphinx rendered scikit-learn.org. See: https://github.com/scikit-learn/scikit-learn/issues/21755 */display: inline-block !important;position: relative;}#sk-container-id-4 div.sk-text-repr-fallback {display: none;}</style><div id=\"sk-container-id-4\" class=\"sk-top-container\"><div class=\"sk-text-repr-fallback\"><pre>SVC(probability=True, random_state=RandomState(MT19937) at 0x7E4302909D40)</pre><b>In a Jupyter environment, please rerun this cell to show the HTML representation or trust the notebook. <br />On GitHub, the HTML representation is unable to render, please try loading this page with nbviewer.org.</b></div><div class=\"sk-container\" hidden><div class=\"sk-item\"><div class=\"sk-estimator sk-toggleable\"><input class=\"sk-toggleable__control sk-hidden--visually\" id=\"sk-estimator-id-4\" type=\"checkbox\" checked><label for=\"sk-estimator-id-4\" class=\"sk-toggleable__label sk-toggleable__label-arrow\">SVC</label><div class=\"sk-toggleable__content\"><pre>SVC(probability=True, random_state=RandomState(MT19937) at 0x7E4302909D40)</pre></div></div></div></div></div>"
            ]
          },
          "metadata": {},
          "execution_count": 50
        },
        {
          "output_type": "display_data",
          "data": {
            "text/plain": [
              "<Figure size 640x480 with 1 Axes>"
            ],
            "image/png": "[encoded data removed]"
          },
          "metadata": {}
        }
      ]
    },
    {
      "cell_type": "code",
      "source": [
        "# Testing the best model for SVM\n",
        "test_svm = get_roc_test(best_model_svm[\"model\"], dfTest)\n",
        "print(\"Best model's AUC on test set for SVM is\", test_svm[\"roc_auc\"])"
      ],
      "metadata": {
        "colab": {
          "base_uri": "https://localhost:8080/"
        },
        "id": "51Cee1Wrg5D-",
        "outputId": "b6ea5b10-b434-4fbb-9194-a3d8f3b56ea1"
      },
      "execution_count": null,
      "outputs": [
        {
          "output_type": "stream",
          "name": "stdout",
          "text": [
            "Best model's AUC on test set for SVM is 0.6644207471487178\n"
          ]
        }
      ]
    },
    {
      "cell_type": "code",
      "source": [
        "# ROC curve for test set for SVM\n",
        "print(\"ROC curve for test set for SVM\")\n",
        "plt.plot(test_svm[\"fpr\"],\n",
        "         test_svm[\"tpr\"], test_svm[\"lw\"], test_svm[\"alpha\"],\n",
        "         label='ROC fold %d (AUC = %0.2f)' % (0, test_svm[\"roc_auc\"]))\n",
        "plt.plot([0, 1], [0, 1], 'r--')\n",
        "plt.xlim([0.0, 1.0])\n",
        "plt.ylim([0.0, 1.05])\n",
        "plt.xlabel('False Positive Rate')\n",
        "plt.ylabel('True Positive Rate')\n",
        "plt.title('Receiver operating characteristic')\n",
        "plt.legend(loc=\"lower right\")\n",
        "plt.savefig('SVM_ROC')\n",
        "plt.show()"
      ],
      "metadata": {
        "colab": {
          "base_uri": "https://localhost:8080/",
          "height": 489
        },
        "id": "M-Iod1Frg_iF",
        "outputId": "fbba1b5d-e40c-47f4-9286-846ffb598cfb"
      },
      "execution_count": null,
      "outputs": [
        {
          "output_type": "stream",
          "name": "stdout",
          "text": [
            "ROC curve for test set for SVM\n"
          ]
        },
        {
          "output_type": "display_data",
          "data": {
            "text/plain": [
              "<Figure size 640x480 with 1 Axes>"
            ],
            "image/png": "[encoded data removed]"
          },
          "metadata": {}
        }
      ]
    },
    {
      "cell_type": "code",
      "source": [
        "# Displaying accuracy of SVM\n",
        "print(\"SVM Accuracy\")\n",
        "display_accuracy(best_model_svm[\"model\"], dfTest)"
      ],
      "metadata": {
        "colab": {
          "base_uri": "https://localhost:8080/"
        },
        "id": "05ziqlN7hB2G",
        "outputId": "db7abb86-29d1-4e7f-8b9c-7d41460fbcf7"
      },
      "execution_count": null,
      "outputs": [
        {
          "output_type": "stream",
          "name": "stdout",
          "text": [
            "SVM Accuracy\n",
            "Model's on test set: 0.76\n"
          ]
        }
      ]
    },
    {
      "cell_type": "code",
      "source": [
        "# Printing model's confusion matrix for SVM\n",
        "print(\"SVM Confusion Matrix\")\n",
        "confusion_matrix_svm = display_confusion_matrix(best_model_svm[\"model\"], dfTest)\n",
        "correct_predictions_svm = confusion_matrix_svm[0][0] + confusion_matrix_svm[1][1]\n",
        "incorrect_predictions_svm = confusion_matrix_svm[0][1] + confusion_matrix_svm[1][0]\n",
        "print(\"Number of correct predictions: \", correct_predictions_svm)\n",
        "print(\"Number of incorrect predictions: \", incorrect_predictions_svm)"
      ],
      "metadata": {
        "colab": {
          "base_uri": "https://localhost:8080/"
        },
        "id": "e-iaxq4ahJRE",
        "outputId": "0bac1e02-19a5-42b8-8eb3-74bfcb39b462"
      },
      "execution_count": null,
      "outputs": [
        {
          "output_type": "stream",
          "name": "stdout",
          "text": [
            "SVM Confusion Matrix\n",
            "[[757549 240756]\n",
            " [   738    957]]\n",
            "Number of correct predictions:  758506\n",
            "Number of incorrect predictions:  241494\n"
          ]
        }
      ]
    },
    {
      "cell_type": "code",
      "source": [
        "from sklearn.ensemble import AdaBoostClassifier\n",
        "dTrain = pd.DataFrame()\n",
        "dCV = pd.DataFrame()\n",
        "split_size = 0.3\n",
        "best_model_adaboost = {}\n",
        "model_list_adaboost = []\n",
        "best_auc_adaboost = np.float64(0)"
      ],
      "metadata": {
        "id": "zafhfrfOhWo0"
      },
      "execution_count": null,
      "outputs": []
    },
    {
      "cell_type": "code",
      "source": [
        "from sklearn.metrics import accuracy_score, precision_score, recall_score, f1_score\n",
        "\n",
        "# Initialize lists to store metrics\n",
        "f1_scores = []\n",
        "recall_scores = []\n",
        "precision_scores = []\n",
        "training_accuracies = []\n",
        "testing_accuracies = []\n",
        "\n",
        "for chunk in dfTrainBal:\n",
        "    random_int = random.randint(1, 10)\n",
        "    random_state = np.random.RandomState(random_int)\n",
        "\n",
        "    # Building data for cross-validation\n",
        "    dTrain, dCV = model_tts(chunk, test_size=split_size, random_state=random_state, shuffle=True)\n",
        "\n",
        "    # Get X and y\n",
        "    yTrain = dTrain['is_attributed']\n",
        "    xTrain = dTrain.drop('is_attributed', axis=1)\n",
        "    yCV = dCV['is_attributed']\n",
        "    xCV = dCV.drop('is_attributed', axis=1)\n",
        "\n",
        "    # AdaBoost classifier\n",
        "    clfAdaBoost = AdaBoostClassifier(n_estimators=50, random_state=random_state)\n",
        "    clfAdaBoost.fit(xTrain, yTrain)\n",
        "\n",
        "    # Compute predictions\n",
        "    y_train_pred = clfAdaBoost.predict(xTrain)\n",
        "    y_test_pred = clfAdaBoost.predict(xCV)\n",
        "\n",
        "    # Compute metrics\n",
        "    f1 = f1_score(yCV, y_test_pred)\n",
        "    recall = recall_score(yCV, y_test_pred)\n",
        "    precision = precision_score(yCV, y_test_pred)\n",
        "    train_accuracy = accuracy_score(yTrain, y_train_pred)\n",
        "    test_accuracy = accuracy_score(yCV, y_test_pred)\n",
        "\n",
        "    # Append metrics to lists\n",
        "    f1_scores.append(f1)\n",
        "    recall_scores.append(recall)\n",
        "    precision_scores.append(precision)\n",
        "    training_accuracies.append(train_accuracy)\n",
        "    testing_accuracies.append(test_accuracy)\n",
        "\n",
        "    print(\"F1 Score:\", f1)\n",
        "    print(\"Recall:\", recall)\n",
        "    print(\"Precision:\", precision)\n",
        "    print(\"Training Accuracy:\", train_accuracy)\n",
        "    print(\"Testing Accuracy:\", test_accuracy)\n",
        "\n",
        "# Average metrics over all chunks\n",
        "avg_f1 = sum(f1_scores) / len(f1_scores)\n",
        "avg_recall = sum(recall_scores) / len(recall_scores)\n",
        "avg_precision = sum(precision_scores) / len(precision_scores)\n",
        "avg_train_accuracy = sum(training_accuracies) / len(training_accuracies)\n",
        "avg_test_accuracy = sum(testing_accuracies) / len(testing_accuracies)\n",
        "\n",
        "print(\"Average F1 Score:\", avg_f1)\n",
        "print(\"Average Recall:\", avg_recall)\n",
        "print(\"Average Precision:\", avg_precision)\n",
        "print(\"Average Training Accuracy:\", avg_train_accuracy)\n",
        "print(\"Average Testing Accuracy:\", avg_test_accuracy)\n",
        "\n"
      ],
      "metadata": {
        "colab": {
          "base_uri": "https://localhost:8080/"
        },
        "id": "xd8ea4L0hbXH",
        "outputId": "92992a74-0536-48c4-e651-444786233141"
      },
      "execution_count": null,
      "outputs": [
        {
          "output_type": "stream",
          "name": "stdout",
          "text": [
            "F1 Score: 0.848156392141682\n",
            "Recall: 0.7857270934194011\n",
            "Precision: 0.9213624894869639\n",
            "Training Accuracy: 0.8623706023912296\n",
            "Testing Accuracy: 0.8601604278074866\n",
            "F1 Score: 0.8517777142312458\n",
            "Recall: 0.788146057505733\n",
            "Precision: 0.9265864786395687\n",
            "Training Accuracy: 0.8622942052790404\n",
            "Testing Accuracy: 0.8614081996434938\n",
            "F1 Score: 0.8496456617506225\n",
            "Recall: 0.7877819215059492\n",
            "Precision: 0.9220536271045521\n",
            "Training Accuracy: 0.8616830283815272\n",
            "Testing Accuracy: 0.8600713012477719\n",
            "F1 Score: 0.8517344095320457\n",
            "Recall: 0.789736279401283\n",
            "Precision: 0.92429614181439\n",
            "Training Accuracy: 0.8639367431911074\n",
            "Testing Accuracy: 0.8624777183600713\n",
            "F1 Score: 0.8496583143507973\n",
            "Recall: 0.7870582029189379\n",
            "Precision: 0.9230769230769231\n",
            "Training Accuracy: 0.8603078803621224\n",
            "Testing Accuracy: 0.8588235294117647\n",
            "F1 Score: 0.855303612605688\n",
            "Recall: 0.7904457467590126\n",
            "Precision: 0.9317563324262089\n",
            "Training Accuracy: 0.8631345735131212\n",
            "Testing Accuracy: 0.8657754010695187\n",
            "F1 Score: 0.8503199923583915\n",
            "Recall: 0.7826622120625989\n",
            "Precision: 0.9307820995399414\n",
            "Training Accuracy: 0.862523396615608\n",
            "Testing Accuracy: 0.8603386809269162\n",
            "F1 Score: 0.8520461699895069\n",
            "Recall: 0.793109572012076\n",
            "Precision: 0.9204451772464963\n",
            "Training Accuracy: 0.8674892089079033\n",
            "Testing Accuracy: 0.861764705882353\n",
            "F1 Score: 0.8505505026328386\n",
            "Recall: 0.7888474516071746\n",
            "Precision: 0.9227253842958039\n",
            "Training Accuracy: 0.8661904580006876\n",
            "Testing Accuracy: 0.860873440285205\n",
            "F1 Score: 0.8547008547008548\n",
            "Recall: 0.7912783541410234\n",
            "Precision: 0.9291761304976255\n",
            "Training Accuracy: 0.8657320753275526\n",
            "Testing Accuracy: 0.8636363636363636\n",
            "Average F1 Score: 0.8513893624293672\n",
            "Average Recall: 0.788479289133319\n",
            "Average Precision: 0.9252260784128474\n",
            "Average Training Accuracy: 0.86356621719699\n",
            "Average Testing Accuracy: 0.8615329768270945\n"
          ]
        }
      ]
    },
    {
      "cell_type": "code",
      "source": [
        "confusion_matrix_xgb = display_confusion_matrix(best_model_xgb[\"model\"], dfTest)\n",
        "correct_predictions_xgb = confusion_matrix_xgb[0][0] + confusion_matrix_xgb[1][1]\n",
        "incorrect_predictions_xgb = confusion_matrix_xgb[0][1] + confusion_matrix_xgb[1][0]\n",
        "print(\"Number of correct predictions: \", correct_predictions_xgb)\n",
        "print(\"Number of incorrect predictions: \", incorrect_predictions_xgb)\n",
        "display_classification_report(best_model_xgb[\"model\"], dfTest)"
      ],
      "metadata": {
        "id": "loFCE1rlu7yu"
      },
      "execution_count": null,
      "outputs": []
    },
    {
      "cell_type": "code",
      "source": [
        "# Selecting the best model based on AUC\n",
        "for model in model_list_adaboost:\n",
        "    if np.greater(model[\"roc_auc\"], best_auc_adaboost):\n",
        "        best_auc_adaboost = model[\"roc_auc\"]\n",
        "        best_model_adaboost = model\n",
        "\n",
        "print(\"Best AUC is\", best_model_adaboost[\"roc_auc\"])\n",
        "print(\"ROC curve for validation set for AdaBoost\")\n",
        "plt.plot(best_model_adaboost[\"fpr\"],\n",
        "         best_model_adaboost[\"tpr\"], best_model_adaboost[\"lw\"], best_model_adaboost[\"alpha\"],\n",
        "         label='ROC fold %d (AUC = %0.2f)' % (0, best_model_adaboost[\"roc_auc\"]))\n",
        "\n",
        "best_model_adaboost[\"model\"]"
      ],
      "metadata": {
        "colab": {
          "base_uri": "https://localhost:8080/",
          "height": 523
        },
        "id": "LbG3vFbuhlIA",
        "outputId": "d18ff72f-d434-4c7b-c3ab-5ae7ad795ea2"
      },
      "execution_count": null,
      "outputs": [
        {
          "output_type": "stream",
          "name": "stdout",
          "text": [
            "Best AUC is 0.9396111558164972\n",
            "ROC curve for validation set for AdaBoost\n"
          ]
        },
        {
          "output_type": "execute_result",
          "data": {
            "text/plain": [
              "AdaBoostClassifier(random_state=RandomState(MT19937) at 0x7B728EF93340)"
            ],
            "text/html": [
              "<style>#sk-container-id-2 {color: black;background-color: white;}#sk-container-id-2 pre{padding: 0;}#sk-container-id-2 div.sk-toggleable {background-color: white;}#sk-container-id-2 label.sk-toggleable__label {cursor: pointer;display: block;width: 100%;margin-bottom: 0;padding: 0.3em;box-sizing: border-box;text-align: center;}#sk-container-id-2 label.sk-toggleable__label-arrow:before {content: \"▸\";float: left;margin-right: 0.25em;color: #696969;}#sk-container-id-2 label.sk-toggleable__label-arrow:hover:before {color: black;}#sk-container-id-2 div.sk-estimator:hover label.sk-toggleable__label-arrow:before {color: black;}#sk-container-id-2 div.sk-toggleable__content {max-height: 0;max-width: 0;overflow: hidden;text-align: left;background-color: #f0f8ff;}#sk-container-id-2 div.sk-toggleable__content pre {margin: 0.2em;color: black;border-radius: 0.25em;background-color: #f0f8ff;}#sk-container-id-2 input.sk-toggleable__control:checked~div.sk-toggleable__content {max-height: 200px;max-width: 100%;overflow: auto;}#sk-container-id-2 input.sk-toggleable__control:checked~label.sk-toggleable__label-arrow:before {content: \"▾\";}#sk-container-id-2 div.sk-estimator input.sk-toggleable__control:checked~label.sk-toggleable__label {background-color: #d4ebff;}#sk-container-id-2 div.sk-label input.sk-toggleable__control:checked~label.sk-toggleable__label {background-color: #d4ebff;}#sk-container-id-2 input.sk-hidden--visually {border: 0;clip: rect(1px 1px 1px 1px);clip: rect(1px, 1px, 1px, 1px);height: 1px;margin: -1px;overflow: hidden;padding: 0;position: absolute;width: 1px;}#sk-container-id-2 div.sk-estimator {font-family: monospace;background-color: #f0f8ff;border: 1px dotted black;border-radius: 0.25em;box-sizing: border-box;margin-bottom: 0.5em;}#sk-container-id-2 div.sk-estimator:hover {background-color: #d4ebff;}#sk-container-id-2 div.sk-parallel-item::after {content: \"\";width: 100%;border-bottom: 1px solid gray;flex-grow: 1;}#sk-container-id-2 div.sk-label:hover label.sk-toggleable__label {background-color: #d4ebff;}#sk-container-id-2 div.sk-serial::before {content: \"\";position: absolute;border-left: 1px solid gray;box-sizing: border-box;top: 0;bottom: 0;left: 50%;z-index: 0;}#sk-container-id-2 div.sk-serial {display: flex;flex-direction: column;align-items: center;background-color: white;padding-right: 0.2em;padding-left: 0.2em;position: relative;}#sk-container-id-2 div.sk-item {position: relative;z-index: 1;}#sk-container-id-2 div.sk-parallel {display: flex;align-items: stretch;justify-content: center;background-color: white;position: relative;}#sk-container-id-2 div.sk-item::before, #sk-container-id-2 div.sk-parallel-item::before {content: \"\";position: absolute;border-left: 1px solid gray;box-sizing: border-box;top: 0;bottom: 0;left: 50%;z-index: -1;}#sk-container-id-2 div.sk-parallel-item {display: flex;flex-direction: column;z-index: 1;position: relative;background-color: white;}#sk-container-id-2 div.sk-parallel-item:first-child::after {align-self: flex-end;width: 50%;}#sk-container-id-2 div.sk-parallel-item:last-child::after {align-self: flex-start;width: 50%;}#sk-container-id-2 div.sk-parallel-item:only-child::after {width: 0;}#sk-container-id-2 div.sk-dashed-wrapped {border: 1px dashed gray;margin: 0 0.4em 0.5em 0.4em;box-sizing: border-box;padding-bottom: 0.4em;background-color: white;}#sk-container-id-2 div.sk-label label {font-family: monospace;font-weight: bold;display: inline-block;line-height: 1.2em;}#sk-container-id-2 div.sk-label-container {text-align: center;}#sk-container-id-2 div.sk-container {/* jupyter's `normalize.less` sets `[hidden] { display: none; }` but bootstrap.min.css set `[hidden] { display: none !important; }` so we also need the `!important` here to be able to override the default hidden behavior on the sphinx rendered scikit-learn.org. See: https://github.com/scikit-learn/scikit-learn/issues/21755 */display: inline-block !important;position: relative;}#sk-container-id-2 div.sk-text-repr-fallback {display: none;}</style><div id=\"sk-container-id-2\" class=\"sk-top-container\"><div class=\"sk-text-repr-fallback\"><pre>AdaBoostClassifier(random_state=RandomState(MT19937) at 0x7B728EF93340)</pre><b>In a Jupyter environment, please rerun this cell to show the HTML representation or trust the notebook. <br />On GitHub, the HTML representation is unable to render, please try loading this page with nbviewer.org.</b></div><div class=\"sk-container\" hidden><div class=\"sk-item\"><div class=\"sk-estimator sk-toggleable\"><input class=\"sk-toggleable__control sk-hidden--visually\" id=\"sk-estimator-id-2\" type=\"checkbox\" checked><label for=\"sk-estimator-id-2\" class=\"sk-toggleable__label sk-toggleable__label-arrow\">AdaBoostClassifier</label><div class=\"sk-toggleable__content\"><pre>AdaBoostClassifier(random_state=RandomState(MT19937) at 0x7B728EF93340)</pre></div></div></div></div></div>"
            ]
          },
          "metadata": {},
          "execution_count": 29
        },
        {
          "output_type": "display_data",
          "data": {
            "text/plain": [
              "<Figure size 640x480 with 1 Axes>"
            ],
            "image/png": "[encoded data removed]"
          },
          "metadata": {}
        }
      ]
    },
    {
      "cell_type": "code",
      "source": [
        "# Testing the best model for AdaBoost\n",
        "test_adaboost = get_roc_test(best_model_adaboost[\"model\"], dfTest)\n",
        "print(\"Best model's AUC on test set for AdaBoost is\", test_adaboost[\"roc_auc\"])"
      ],
      "metadata": {
        "colab": {
          "base_uri": "https://localhost:8080/"
        },
        "id": "M5qG3bkNhor-",
        "outputId": "92e50a9e-5964-4de5-a63a-3797040a08d6"
      },
      "execution_count": null,
      "outputs": [
        {
          "output_type": "stream",
          "name": "stdout",
          "text": [
            "Best model's AUC on test set for AdaBoost is 0.9485468530503136\n"
          ]
        }
      ]
    },
    {
      "cell_type": "code",
      "source": [
        "# ROC curve for test set for AdaBoost\n",
        "print(\"ROC curve for test set for AdaBoost\")\n",
        "plt.plot(test_adaboost[\"fpr\"],\n",
        "         test_adaboost[\"tpr\"], test_adaboost[\"lw\"], test_adaboost[\"alpha\"],\n",
        "         label='ROC fold %d (AUC = %0.2f)' % (0, test_adaboost[\"roc_auc\"]))\n",
        "plt.plot([0, 1], [0, 1], 'r--')\n",
        "plt.xlim([0.0, 1.0])\n",
        "plt.ylim([0.0, 1.05])\n",
        "plt.xlabel('False Positive Rate')\n",
        "plt.ylabel('True Positive Rate')\n",
        "plt.title('Receiver operating characteristic')\n",
        "plt.legend(loc=\"lower right\")\n",
        "plt.savefig('AdaBoost_ROC')\n",
        "plt.show()"
      ],
      "metadata": {
        "colab": {
          "base_uri": "https://localhost:8080/",
          "height": 489
        },
        "id": "veuxK251htQy",
        "outputId": "1b968b28-4fd7-4ffb-c230-e110b0f311e8"
      },
      "execution_count": null,
      "outputs": [
        {
          "output_type": "stream",
          "name": "stdout",
          "text": [
            "ROC curve for test set for AdaBoost\n"
          ]
        },
        {
          "output_type": "display_data",
          "data": {
            "text/plain": [
              "<Figure size 640x480 with 1 Axes>"
            ],
            "image/png": "[encoded data removed]"
          },
          "metadata": {}
        }
      ]
    },
    {
      "cell_type": "code",
      "source": [
        "# Displaying accuracy of AdaBoost\n",
        "print(\"AdaBoost Accuracy\")\n",
        "display_accuracy(best_model_adaboost[\"model\"], dfTest)\n"
      ],
      "metadata": {
        "colab": {
          "base_uri": "https://localhost:8080/"
        },
        "id": "qNvwSJiIhzIT",
        "outputId": "1ca58643-d412-4cd9-e00f-9b797f266d34"
      },
      "execution_count": null,
      "outputs": [
        {
          "output_type": "stream",
          "name": "stdout",
          "text": [
            "AdaBoost Accuracy\n",
            "Model's on test set: 0.93\n"
          ]
        }
      ]
    },
    {
      "cell_type": "code",
      "source": [
        "# Printing model's confusion matrix for AdaBoost\n",
        "print(\"AdaBoost Confusion Matrix\")\n",
        "confusion_matrix_adaboost = display_confusion_matrix(best_model_adaboost[\"model\"], dfTest)\n",
        "correct_predictions_adaboost = confusion_matrix_adaboost[0][0] + confusion_matrix_adaboost[1][1]\n",
        "incorrect_predictions_adaboost = confusion_matrix_adaboost[0][1] + confusion_matrix_adaboost[1][0]\n",
        "print(\"Number of correct predictions: \", correct_predictions_adaboost)\n",
        "print(\"Number of incorrect predictions: \", incorrect_predictions_adaboost)"
      ],
      "metadata": {
        "colab": {
          "base_uri": "https://localhost:8080/"
        },
        "id": "cXig3LAth4lS",
        "outputId": "ec184b16-6f93-4e28-9a0e-e6f57ded6e9e"
      },
      "execution_count": null,
      "outputs": [
        {
          "output_type": "stream",
          "name": "stdout",
          "text": [
            "AdaBoost Confusion Matrix\n",
            "[[923690  74615]\n",
            " [   318   1377]]\n",
            "Number of correct predictions:  925067\n",
            "Number of incorrect predictions:  74933\n"
          ]
        }
      ]
    },
    {
      "cell_type": "code",
      "source": [
        "!pip install catboost\n"
      ],
      "metadata": {
        "colab": {
          "base_uri": "https://localhost:8080/"
        },
        "id": "ldc-6kL5ZPjM",
        "outputId": "077c990b-a118-4431-fc35-1e83e6258ca8"
      },
      "execution_count": null,
      "outputs": [
        {
          "output_type": "stream",
          "name": "stdout",
          "text": [
            "Collecting catboost\n",
            "  Downloading catboost-1.2.3-cp310-cp310-manylinux2014_x86_64.whl (98.5 MB)\n",
            "\u001b[2K     \u001b[90m━━━━━━━━━━━━━━━━━━━━━━━━━━━━━━━━━━━━━━━━\u001b[0m \u001b[32m98.5/98.5 MB\u001b[0m \u001b[31m16.7 MB/s\u001b[0m eta \u001b[36m0:00:00\u001b[0m\n",
            "\u001b[?25hRequirement already satisfied: graphviz in /usr/local/lib/python3.10/dist-packages (from catboost) (0.20.1)\n",
            "Requirement already satisfied: matplotlib in /usr/local/lib/python3.10/dist-packages (from catboost) (3.7.1)\n",
            "Requirement already satisfied: numpy>=1.16.0 in /usr/local/lib/python3.10/dist-packages (from catboost) (1.25.2)\n",
            "Requirement already satisfied: pandas>=0.24 in /usr/local/lib/python3.10/dist-packages (from catboost) (1.5.3)\n",
            "Requirement already satisfied: scipy in /usr/local/lib/python3.10/dist-packages (from catboost) (1.11.4)\n",
            "Requirement already satisfied: plotly in /usr/local/lib/python3.10/dist-packages (from catboost) (5.15.0)\n",
            "Requirement already satisfied: six in /usr/local/lib/python3.10/dist-packages (from catboost) (1.16.0)\n",
            "Requirement already satisfied: python-dateutil>=2.8.1 in /usr/local/lib/python3.10/dist-packages (from pandas>=0.24->catboost) (2.8.2)\n",
            "Requirement already satisfied: pytz>=2020.1 in /usr/local/lib/python3.10/dist-packages (from pandas>=0.24->catboost) (2023.4)\n",
            "Requirement already satisfied: contourpy>=1.0.1 in /usr/local/lib/python3.10/dist-packages (from matplotlib->catboost) (1.2.0)\n",
            "Requirement already satisfied: cycler>=0.10 in /usr/local/lib/python3.10/dist-packages (from matplotlib->catboost) (0.12.1)\n",
            "Requirement already satisfied: fonttools>=4.22.0 in /usr/local/lib/python3.10/dist-packages (from matplotlib->catboost) (4.49.0)\n",
            "Requirement already satisfied: kiwisolver>=1.0.1 in /usr/local/lib/python3.10/dist-packages (from matplotlib->catboost) (1.4.5)\n",
            "Requirement already satisfied: packaging>=20.0 in /usr/local/lib/python3.10/dist-packages (from matplotlib->catboost) (23.2)\n",
            "Requirement already satisfied: pillow>=6.2.0 in /usr/local/lib/python3.10/dist-packages (from matplotlib->catboost) (9.4.0)\n",
            "Requirement already satisfied: pyparsing>=2.3.1 in /usr/local/lib/python3.10/dist-packages (from matplotlib->catboost) (3.1.1)\n",
            "Requirement already satisfied: tenacity>=6.2.0 in /usr/local/lib/python3.10/dist-packages (from plotly->catboost) (8.2.3)\n",
            "Installing collected packages: catboost\n",
            "Successfully installed catboost-1.2.3\n"
          ]
        }
      ]
    },
    {
      "cell_type": "code",
      "source": [
        "from catboost import CatBoostClassifier  # Import CatBoost classifier\n",
        "\n",
        "dTrain = pd.DataFrame()\n",
        "dCV = pd.DataFrame()\n",
        "split_size = 0.3\n",
        "best_model_catboost = {}  # Dictionary to store the best CatBoost model\n",
        "model_list_catboost = []  # List to store models and their metrics\n",
        "best_auc_catboost = np.float64(0)  # Initialize best AUC\n",
        "\n",
        "\n"
      ],
      "metadata": {
        "id": "COrAYspbZVem"
      },
      "execution_count": null,
      "outputs": []
    },
    {
      "cell_type": "code",
      "source": [
        "# Building CatBoost model\n",
        "for chunk in dfTrainBal:\n",
        "    random_int = random.randint(1, 10)\n",
        "    random_state = np.random.RandomState(random_int)\n",
        "\n",
        "    # Building data for cross-validation\n",
        "    dTrain, dCV = model_tts(chunk, test_size=split_size, random_state=random_state, shuffle=True)\n",
        "\n",
        "    # Get X and y\n",
        "    yTrain = dTrain['is_attributed']\n",
        "    xTrain = dTrain.drop('is_attributed', axis=1)\n",
        "    yCV = dCV['is_attributed']\n",
        "    xCV = dCV.drop('is_attributed', axis=1)\n",
        "\n",
        "    # CatBoost classifier\n",
        "    clfCatBoost = CatBoostClassifier(iterations=50, random_seed=random_int, logging_level='Silent')\n",
        "    clfCatBoost.fit(xTrain, yTrain)\n",
        "\n",
        "    # Evaluate CatBoost model\n",
        "    results_catboost = draw_roc(clfCatBoost, chunk)\n",
        "    model_list_catboost.append(results_catboost)\n",
        "    print(results_catboost[\"roc_auc\"])\n",
        "\n"
      ],
      "metadata": {
        "colab": {
          "base_uri": "https://localhost:8080/"
        },
        "id": "zRnl4BwwZbgo",
        "outputId": "d42be4e4-b6a1-4655-f0bc-0ff9cb5a82ae"
      },
      "execution_count": null,
      "outputs": [
        {
          "output_type": "stream",
          "name": "stderr",
          "text": [
            "<ipython-input-20-49d54e7f5a0b>:21: DeprecationWarning: scipy.interp is deprecated and will be removed in SciPy 2.0.0, use numpy.interp instead\n",
            "  tprs.append(interp(mean_fpr, fpr, tpr))\n"
          ]
        },
        {
          "output_type": "stream",
          "name": "stdout",
          "text": [
            "0.9541758792572734\n"
          ]
        },
        {
          "output_type": "stream",
          "name": "stderr",
          "text": [
            "<ipython-input-20-49d54e7f5a0b>:21: DeprecationWarning: scipy.interp is deprecated and will be removed in SciPy 2.0.0, use numpy.interp instead\n",
            "  tprs.append(interp(mean_fpr, fpr, tpr))\n"
          ]
        },
        {
          "output_type": "stream",
          "name": "stdout",
          "text": [
            "0.9557301969481887\n"
          ]
        },
        {
          "output_type": "stream",
          "name": "stderr",
          "text": [
            "<ipython-input-20-49d54e7f5a0b>:21: DeprecationWarning: scipy.interp is deprecated and will be removed in SciPy 2.0.0, use numpy.interp instead\n",
            "  tprs.append(interp(mean_fpr, fpr, tpr))\n"
          ]
        },
        {
          "output_type": "stream",
          "name": "stdout",
          "text": [
            "0.9542524301768506\n"
          ]
        },
        {
          "output_type": "stream",
          "name": "stderr",
          "text": [
            "<ipython-input-20-49d54e7f5a0b>:21: DeprecationWarning: scipy.interp is deprecated and will be removed in SciPy 2.0.0, use numpy.interp instead\n",
            "  tprs.append(interp(mean_fpr, fpr, tpr))\n"
          ]
        },
        {
          "output_type": "stream",
          "name": "stdout",
          "text": [
            "0.9546737205838546\n"
          ]
        },
        {
          "output_type": "stream",
          "name": "stderr",
          "text": [
            "<ipython-input-20-49d54e7f5a0b>:21: DeprecationWarning: scipy.interp is deprecated and will be removed in SciPy 2.0.0, use numpy.interp instead\n",
            "  tprs.append(interp(mean_fpr, fpr, tpr))\n"
          ]
        },
        {
          "output_type": "stream",
          "name": "stdout",
          "text": [
            "0.9567555678462316\n"
          ]
        },
        {
          "output_type": "stream",
          "name": "stderr",
          "text": [
            "<ipython-input-20-49d54e7f5a0b>:21: DeprecationWarning: scipy.interp is deprecated and will be removed in SciPy 2.0.0, use numpy.interp instead\n",
            "  tprs.append(interp(mean_fpr, fpr, tpr))\n"
          ]
        },
        {
          "output_type": "stream",
          "name": "stdout",
          "text": [
            "0.9552543342269885\n"
          ]
        },
        {
          "output_type": "stream",
          "name": "stderr",
          "text": [
            "<ipython-input-20-49d54e7f5a0b>:21: DeprecationWarning: scipy.interp is deprecated and will be removed in SciPy 2.0.0, use numpy.interp instead\n",
            "  tprs.append(interp(mean_fpr, fpr, tpr))\n"
          ]
        },
        {
          "output_type": "stream",
          "name": "stdout",
          "text": [
            "0.9543564576624322\n"
          ]
        },
        {
          "output_type": "stream",
          "name": "stderr",
          "text": [
            "<ipython-input-20-49d54e7f5a0b>:21: DeprecationWarning: scipy.interp is deprecated and will be removed in SciPy 2.0.0, use numpy.interp instead\n",
            "  tprs.append(interp(mean_fpr, fpr, tpr))\n"
          ]
        },
        {
          "output_type": "stream",
          "name": "stdout",
          "text": [
            "0.9528863900300072\n"
          ]
        },
        {
          "output_type": "stream",
          "name": "stderr",
          "text": [
            "<ipython-input-20-49d54e7f5a0b>:21: DeprecationWarning: scipy.interp is deprecated and will be removed in SciPy 2.0.0, use numpy.interp instead\n",
            "  tprs.append(interp(mean_fpr, fpr, tpr))\n"
          ]
        },
        {
          "output_type": "stream",
          "name": "stdout",
          "text": [
            "0.9546176291500872\n",
            "0.9555552151811937\n"
          ]
        },
        {
          "output_type": "stream",
          "name": "stderr",
          "text": [
            "<ipython-input-20-49d54e7f5a0b>:21: DeprecationWarning: scipy.interp is deprecated and will be removed in SciPy 2.0.0, use numpy.interp instead\n",
            "  tprs.append(interp(mean_fpr, fpr, tpr))\n"
          ]
        }
      ]
    },
    {
      "cell_type": "code",
      "source": [
        "# Selecting the best model based on AUC\n",
        "for model in model_list_catboost:\n",
        "    if np.greater(model[\"roc_auc\"], best_auc_catboost):\n",
        "        best_auc_catboost = model[\"roc_auc\"]\n",
        "        best_model_catboost = model\n"
      ],
      "metadata": {
        "id": "ehYSLiHNZfIm"
      },
      "execution_count": null,
      "outputs": []
    },
    {
      "cell_type": "code",
      "source": [
        "\n",
        "print(\"Best AUC is\", best_model_catboost[\"roc_auc\"])\n",
        "print(\"ROC curve for validation set for CatBoost\")\n",
        "plt.plot(best_model_catboost[\"fpr\"],\n",
        "         best_model_catboost[\"tpr\"], best_model_catboost[\"lw\"], best_model_catboost[\"alpha\"],\n",
        "         label='ROC fold %d (AUC = %0.2f)' % (0, best_model_catboost[\"roc_auc\"]))\n"
      ],
      "metadata": {
        "colab": {
          "base_uri": "https://localhost:8080/",
          "height": 499
        },
        "id": "KYU0GFgiZhYi",
        "outputId": "1473a507-6a54-4d42-f96a-7d4d48599b9b"
      },
      "execution_count": null,
      "outputs": [
        {
          "output_type": "stream",
          "name": "stdout",
          "text": [
            "Best AUC is 0.9567555678462316\n",
            "ROC curve for validation set for CatBoost\n"
          ]
        },
        {
          "output_type": "execute_result",
          "data": {
            "text/plain": [
              "[<matplotlib.lines.Line2D at 0x7af27933f520>,\n",
              " <matplotlib.lines.Line2D at 0x7af27933f580>]"
            ]
          },
          "metadata": {},
          "execution_count": 29
        },
        {
          "output_type": "display_data",
          "data": {
            "text/plain": [
              "<Figure size 640x480 with 1 Axes>"
            ],
            "image/png": "[encoded data removed]"
          },
          "metadata": {}
        }
      ]
    },
    {
      "cell_type": "code",
      "source": [
        "# Displaying accuracy of CatBoost\n",
        "print(\"CatBoost Accuracy\")\n",
        "display_accuracy(best_model_catboost[\"model\"], dfTest)"
      ],
      "metadata": {
        "colab": {
          "base_uri": "https://localhost:8080/"
        },
        "id": "avTOtF_VZkS6",
        "outputId": "375f4e0a-0073-4efd-d163-9390f05046a4"
      },
      "execution_count": null,
      "outputs": [
        {
          "output_type": "stream",
          "name": "stdout",
          "text": [
            "CatBoost Accuracy\n",
            "Model's on test set: 0.94\n"
          ]
        }
      ]
    },
    {
      "cell_type": "code",
      "source": [
        "from sklearn.model_selection import GridSearchCV\n",
        "\n",
        "# Define the parameter grid\n",
        "param_grid = {\n",
        "    'iterations': [50, 100, 200],\n",
        "    'learning_rate': [0.01, 0.05, 0.1],\n",
        "    # Add more hyperparameters to tune\n",
        "}\n",
        "\n",
        "# Perform grid search\n",
        "grid_search = GridSearchCV(estimator=CatBoostClassifier(random_seed=42, logging_level='Silent'),\n",
        "                           param_grid=param_grid, cv=3, scoring='roc_auc')\n",
        "grid_search.fit(xTrain, yTrain)\n",
        "\n",
        "# Get the best model\n",
        "best_model_catboost = grid_search.best_estimator_\n",
        "\n",
        "\n"
      ],
      "metadata": {
        "id": "xpdtl9LZZ234"
      },
      "execution_count": null,
      "outputs": []
    },
    {
      "cell_type": "code",
      "source": [
        "xTrain = dfTrain.drop('is_attributed', axis=1)\n",
        "yTrain = dfTrain['is_attributed']\n",
        "xTest = dfTest.drop('is_attributed', axis=1)\n",
        "yTest = dfTest['is_attributed']"
      ],
      "metadata": {
        "id": "vK0tDTTjcxD3"
      },
      "execution_count": null,
      "outputs": []
    },
    {
      "cell_type": "code",
      "source": [
        "# Print the best parameters and ROC AUC score\n",
        "print(\"Best Parameters:\", grid_search.best_params_)\n",
        "print(\"Best ROC AUC:\", grid_search.best_score_)\n",
        "\n"
      ],
      "metadata": {
        "colab": {
          "base_uri": "https://localhost:8080/"
        },
        "id": "tuA0QCfWbSPQ",
        "outputId": "0914dcce-9905-4e81-9b01-003063bce68f"
      },
      "execution_count": null,
      "outputs": [
        {
          "output_type": "stream",
          "name": "stdout",
          "text": [
            "Best Parameters: {'iterations': 200, 'learning_rate': 0.1}\n",
            "Best ROC AUC: 0.9551737945157709\n"
          ]
        }
      ]
    },
    {
      "cell_type": "code",
      "source": [
        "# Make predictions on the test set\n",
        "y_pred = best_model_catboost.predict(xTest)\n",
        "\n",
        "# Evaluate the model performance on the test set\n",
        "test_auc = roc_auc_score(yTest, y_pred)\n",
        "print(\"Test ROC AUC:\", test_auc)"
      ],
      "metadata": {
        "colab": {
          "base_uri": "https://localhost:8080/"
        },
        "id": "hFSUkYQcbaAw",
        "outputId": "4e04c0c5-7c25-4d2a-d4ee-9b292a77c306"
      },
      "execution_count": null,
      "outputs": [
        {
          "output_type": "stream",
          "name": "stdout",
          "text": [
            "Test ROC AUC: 0.9120444595775684\n"
          ]
        }
      ]
    },
    {
      "cell_type": "code",
      "source": [
        "# Make predictions on the test set\n",
        "y_pred = best_model_catboost.predict(xTest)"
      ],
      "metadata": {
        "id": "CanNRSZLc8XT"
      },
      "execution_count": null,
      "outputs": []
    },
    {
      "cell_type": "code",
      "source": [
        "from catboost import CatBoostClassifier\n",
        "from sklearn.metrics import accuracy_score\n",
        "\n",
        "# Define the best hyperparameters obtained from hyperparameter tuning\n",
        "best_params = {\n",
        "    'iterations': 200,\n",
        "    'learning_rate': 0.1,\n",
        "    'depth': 6,  # Depth of the trees\n",
        "    'l2_leaf_reg': 3,  # L2 regularization coefficient\n",
        "    'bagging_temperature': 0.5,  # Bagging temperature\n",
        "    # Add other best hyperparameters here\n",
        "}\n",
        "\n",
        "# Create a CatBoostClassifier instance with the best hyperparameters\n",
        "best_clf = CatBoostClassifier(**best_params, logging_level='Silent', random_seed=42)\n",
        "\n",
        "# Train the best classifier on the entire training data\n",
        "best_clf.fit(xTrain, yTrain)\n",
        "\n",
        "# Make predictions on the testing set\n",
        "yTest_pred = best_clf.predict(xTest)\n",
        "\n",
        "# Calculate testing accuracy\n",
        "test_accuracy = accuracy_score(yTest, yTest_pred)\n",
        "print(\"Testing Accuracy (after hyperparameter tuning):\", test_accuracy)\n"
      ],
      "metadata": {
        "colab": {
          "base_uri": "https://localhost:8080/"
        },
        "id": "Bc0fV4oBfddI",
        "outputId": "7661cab0-7ded-4b84-cbaa-8d2374f2e20f"
      },
      "execution_count": null,
      "outputs": [
        {
          "output_type": "stream",
          "name": "stdout",
          "text": [
            "Testing Accuracy (after hyperparameter tuning): 0.9980002\n"
          ]
        }
      ]
    },
    {
      "cell_type": "code",
      "source": [
        "from sklearn.metrics import precision_score, recall_score, f1_score\n",
        "\n",
        "# Calculate precision\n",
        "precision = precision_score(yTest, yTest_pred)\n",
        "\n",
        "# Calculate recall\n",
        "recall = recall_score(yTest, yTest_pred)\n",
        "\n",
        "# Calculate F1 score\n",
        "f1 = f1_score(yTest, yTest_pred)\n",
        "\n",
        "# Print evaluation metrics\n",
        "print(\"Testing Precision (after hyperparameter tuning):\", precision)\n",
        "print(\"Testing Recall (after hyperparameter tuning):\", recall)\n",
        "print(\"Testing F1 Score (after hyperparameter tuning):\", f1)"
      ],
      "metadata": {
        "colab": {
          "base_uri": "https://localhost:8080/"
        },
        "id": "9ENbk2FZD9jD",
        "outputId": "1de2681f-6974-4430-d104-22ff8c9d03ba"
      },
      "execution_count": null,
      "outputs": [
        {
          "output_type": "stream",
          "name": "stdout",
          "text": [
            "Testing Precision (after hyperparameter tuning): 0.8371071943799787\n",
            "Testing Recall (after hyperparameter tuning): 0.4340586073438059\n",
            "Testing F1 Score (after hyperparameter tuning): 0.5716855857785393\n"
          ]
        }
      ]
    },
    {
      "cell_type": "code",
      "source": [
        "yTrain_pred = best_clf.predict(xTrain)\n",
        "train_accuracy = accuracy_score(yTrain, yTrain_pred)\n",
        "print(\"Training Accuracy:\", train_accuracy)\n"
      ],
      "metadata": {
        "colab": {
          "base_uri": "https://localhost:8080/"
        },
        "id": "2l4D_5dtgDuj",
        "outputId": "0e77c148-0e8e-4bd1-805b-b132c51f8158"
      },
      "execution_count": null,
      "outputs": [
        {
          "output_type": "stream",
          "name": "stdout",
          "text": [
            "Training Accuracy: 0.9984471\n"
          ]
        }
      ]
    },
    {
      "cell_type": "code",
      "source": [
        "from sklearn.metrics import accuracy_score, precision_score, recall_score, f1_score\n",
        "# Compute precision, recall, and F1-score for training data\n",
        "train_precision = precision_score(yTrain, yTrain_pred)\n",
        "train_recall = recall_score(yTrain, yTrain_pred)\n",
        "train_f1 = f1_score(yTrain, yTrain_pred)\n",
        "\n",
        "print(\"Training Precision:\", train_precision)\n",
        "print(\"Training Recall:\", train_recall)\n",
        "print(\"Training F1-score:\", train_f1)\n",
        "\n",
        "# Make predictions on the testing set\n",
        "yTest_pred = best_clf.predict(xTest)\n",
        "\n",
        "# Compute testing accuracy\n",
        "test_accuracy = accuracy_score(yTest, yTest_pred)\n",
        "print(\"\\nTesting Accuracy:\", test_accuracy)\n",
        "\n",
        "# Compute precision, recall, and F1-score for testing data\n",
        "test_precision = precision_score(yTest, yTest_pred)\n",
        "test_recall = recall_score(yTest, yTest_pred)\n",
        "test_f1 = f1_score(yTest, yTest_pred)\n",
        "\n",
        "print(\"Testing Precision:\", test_precision)\n",
        "print(\"Testing Recall:\", test_recall)\n",
        "print(\"Testing F1-score:\", test_f1)"
      ],
      "metadata": {
        "colab": {
          "base_uri": "https://localhost:8080/"
        },
        "id": "44LSDRGzhBLR",
        "outputId": "f07aec9c-e79a-4926-a087-aecfdba572ac"
      },
      "execution_count": null,
      "outputs": [
        {
          "output_type": "stream",
          "name": "stdout",
          "text": [
            "Training Precision: 0.8036190476190476\n",
            "Training Recall: 0.22541005503018646\n",
            "Training F1-score: 0.35206742604414404\n",
            "\n",
            "Testing Accuracy: 0.9980107\n",
            "Testing Precision: 0.8361204013377926\n",
            "Testing Recall: 0.4390672260708362\n",
            "Testing F1-score: 0.5757789009020536\n"
          ]
        }
      ]
    },
    {
      "cell_type": "code",
      "source": [
        "from sklearn.metrics import confusion_matrix\n",
        "import seaborn as sns\n",
        "import matplotlib.pyplot as plt\n",
        "\n",
        "# Compute confusion matrix for testing data\n",
        "conf_matrix = confusion_matrix(yTest, yTest_pred)\n",
        "\n",
        "# Define labels for confusion matrix\n",
        "labels = ['True Negative', 'False Positive', 'False Negative', 'True Positive']\n",
        "\n",
        "# Reshape confusion matrix to 1D array\n",
        "conf_matrix = conf_matrix.flatten()\n",
        "\n",
        "# Create a data frame for confusion matrix\n",
        "conf_matrix_df = pd.DataFrame(conf_matrix.reshape(2, 2), index=['Actual 0', 'Actual 1'], columns=['Predicted 0', 'Predicted 1'])\n",
        "\n",
        "# Display confusion matrix using seaborn heatmap\n",
        "plt.figure(figsize=(8, 6))\n",
        "sns.heatmap(conf_matrix_df, annot=True, fmt='d', cmap='Blues', cbar=False)\n",
        "plt.xlabel('Predicted Label')\n",
        "plt.ylabel('True Label')\n",
        "plt.title('Confusion Matrix')\n",
        "plt.show()\n",
        "\n",
        "# Display true positive, true negative, false positive, false negative scores\n",
        "print(\"True Negative:\", conf_matrix[0])\n",
        "print(\"False Positive:\", conf_matrix[1])\n",
        "print(\"False Negative:\", conf_matrix[2])\n",
        "print(\"True Positive:\", conf_matrix[3])\n"
      ],
      "metadata": {
        "colab": {
          "base_uri": "https://localhost:8080/",
          "height": 633
        },
        "id": "jW7Vdef6JLRK",
        "outputId": "5c548848-2b97-4d1b-e6ab-c840b52a8567"
      },
      "execution_count": null,
      "outputs": [
        {
          "output_type": "display_data",
          "data": {
            "text/plain": [
              "<Figure size 800x600 with 1 Axes>"
            ],
            "image/png": "[encoded data removed]"
          },
          "metadata": {}
        },
        {
          "output_type": "stream",
          "name": "stdout",
          "text": [
            "True Negative: 9966607\n",
            "False Positive: 2646\n",
            "False Negative: 17247\n",
            "True Positive: 13500\n"
          ]
        }
      ]
    },
    {
      "cell_type": "code",
      "source": [
        "from catboost import CatBoostClassifier, Pool\n",
        "import matplotlib.pyplot as plt\n",
        "test_pool = Pool(xTest, yTest)\n",
        "\n",
        "# Get feature importances\n",
        "feature_importance = best_clf.get_feature_importance(data=test_pool, type='FeatureImportance')\n",
        "\n",
        "# Get feature names\n",
        "feature_names = xTest.columns\n",
        "\n",
        "# Create a DataFrame for better visualization\n",
        "importance_df = pd.DataFrame({'Feature': feature_names, 'Importance': feature_importance})\n",
        "importance_df = importance_df.sort_values(by='Importance', ascending=False)\n",
        "\n",
        "# Plotting the feature importances\n",
        "plt.figure(figsize=(12, 6))\n",
        "plt.barh(importance_df['Feature'], importance_df['Importance'])\n",
        "plt.xlabel('Importance')\n",
        "plt.title('Feature Importance')\n",
        "plt.show()"
      ],
      "metadata": {
        "colab": {
          "base_uri": "https://localhost:8080/",
          "height": 564
        },
        "id": "lop2Ooq7kB1-",
        "outputId": "006fd8f5-a8e7-4825-c3f0-0cbe032bdf23"
      },
      "execution_count": null,
      "outputs": [
        {
          "output_type": "display_data",
          "data": {
            "text/plain": [
              "<Figure size 1200x600 with 1 Axes>"
            ],
            "image/png": "[encoded data removed]"
          },
          "metadata": {}
        }
      ]
    },
    {
      "cell_type": "code",
      "source": [],
      "metadata": {
        "id": "pcZrvRkf4Pwo"
      },
      "execution_count": null,
      "outputs": []
    },
    {
      "cell_type": "code",
      "source": [
        "feature_importance = best_clf.get_feature_importance(data=test_pool, type='FeatureImportance')\n",
        "\n",
        "# Get feature names\n",
        "feature_names = xTest.columns\n",
        "\n",
        "# Create a dictionary to store feature importances with feature names\n",
        "importance_dict = {feature_names[i]: feature_importance[i] for i in range(len(feature_names))}\n",
        "\n",
        "# Sort the dictionary based on feature importances\n",
        "sorted_importance_dict = dict(sorted(importance_dict.items(), key=lambda item: item[1], reverse=True))\n",
        "\n",
        "# Print out feature importances\n",
        "for feature, importance in sorted_importance_dict.items():\n",
        "    print(f\"Feature: {feature} - Importance: {importance}\")"
      ],
      "metadata": {
        "colab": {
          "base_uri": "https://localhost:8080/"
        },
        "id": "S5CMtl-uk_rW",
        "outputId": "08aaf9b6-3210-4510-939b-a78a3dd8ec75"
      },
      "execution_count": null,
      "outputs": [
        {
          "output_type": "stream",
          "name": "stdout",
          "text": [
            "Feature: ip - Importance: 33.01624249138265\n",
            "Feature: app - Importance: 23.018992075235534\n",
            "Feature: channel - Importance: 19.268620104141796\n",
            "Feature: os - Importance: 17.60881531031587\n",
            "Feature: device - Importance: 7.087330018924146\n",
            "Feature: day - Importance: 0.0\n",
            "Feature: hour - Importance: 0.0\n"
          ]
        }
      ]
    }
  ]
}